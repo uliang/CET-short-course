{
 "cells": [
  {
   "cell_type": "code",
   "execution_count": null,
   "metadata": {
    "collapsed": true
   },
   "outputs": [],
   "source": [
    "## future import \n",
    "from __future__ import division, print_function"
   ]
  },
  {
   "cell_type": "markdown",
   "metadata": {},
   "source": [
    "# 5. Getting stuff done with Python\n",
    "____\n",
    "\n",
    "In this unit, we are going to  learn a new data structure with richer features compared to lists. The problem with lists, while flexible enough to store different data types in one variable, is that it does not provide us a way to \"label\" that information with meta data. For example in a list `['Andy', 28, 980.15]`, we would like to be able to associate with the value `Andy` a label or key `'name'` so that we don't have to keep on recalling that a staff's name is located in the first position of the list.  \n",
    "\n",
    "Secondly, we will cover the `for` and `if else` construct. \n",
    "Technically speaking, armed with the basic tools that we have learnt from the previous unit, we *could* go about writing code and basic scripts. But with these keywords, what can achieved is rather limited. Worse, the process of writing code will be tedious and unenlightening. From a scientific and analytic point of view, writing code is not only an ends to obtaining the results we want, but a way for us to structure our thinking and come to an understanding of the problem. \n",
    "\n",
    "## 5.1 Learning objectives for this unit\n",
    "\n",
    "1. To use the `dict` data structure and related methods. \n",
    "\n",
    "1. To apply boolen conditionals to control `if`, `if else` and `if elif` statements. \n",
    "\n",
    "1. To use the `for` and `while` loop to iterate through repetitive calculations. \n",
    "\n",
    "# 6. The dictionary\n",
    "____\n",
    "\n",
    "Lists - while easy to create- have the weakness that one cannot easily retrieve data that has been already stored in it. Since the primary means of retrieving information in a list is via indexing and slicing, you need to know the exact integer positions of each data stored in the list. This can (and will often) lead to human errors in programming. Furthermore, an integer based recall is unenlightening. Other people who reads your code will find it difficult to understand what is being written. \n",
    "\n",
    "To remedy this, Python has built into its base package a data structure called **dictionaries**. A dictionary is simply a key-value pairing like so $$(key_1, value_1), (key_2, value_2)\\ldots, (key_n, value_n)$$ where $key_i$ are usually (but not always) strings and $value_i$ any Python object (`int`, `str`, `list` and even other `dict`!) \n",
    "\n",
    "If `my_dictionary` is a dictionary. Then calling `my_dictionary[key_1]` will return you the value associated with `key_1` in `my_dictionary`, say `value_1`. \n",
    "\n",
    "## 6.1 Creating dictionaries\n",
    "\n",
    "Dictionaries are created using curly braces `{ }`. Inside the curly braces, we simply list down all the key-value pairs with a colon `:`. Different pairs are seperated by a `,`. "
   ]
  },
  {
   "cell_type": "code",
   "execution_count": null,
   "metadata": {
    "collapsed": true
   },
   "outputs": [],
   "source": [
    "# creating a dictionary and assigning it to a variable \n",
    "\n",
    "staff = {'name': 'Andy', 'age': 28, 'email': 'andy@company.com' }"
   ]
  },
  {
   "cell_type": "code",
   "execution_count": null,
   "metadata": {},
   "outputs": [],
   "source": [
    "staff['name']"
   ]
  },
  {
   "cell_type": "code",
   "execution_count": null,
   "metadata": {},
   "outputs": [],
   "source": [
    "staff['age']"
   ]
  },
  {
   "cell_type": "code",
   "execution_count": null,
   "metadata": {},
   "outputs": [],
   "source": [
    "print(staff['email'])"
   ]
  },
  {
   "cell_type": "code",
   "execution_count": null,
   "metadata": {},
   "outputs": [],
   "source": [
    "# A dictionary is of class dict \n",
    "print(type(staff))"
   ]
  },
  {
   "cell_type": "code",
   "execution_count": null,
   "metadata": {},
   "outputs": [],
   "source": [
    "# list of all keys, note the brackets at the end. \n",
    "# .keys is a method associated to dictionaries\n",
    "\n",
    "staff.keys()"
   ]
  },
  {
   "cell_type": "code",
   "execution_count": null,
   "metadata": {},
   "outputs": [],
   "source": [
    "# list of all values, in no particular order\n",
    "staff.values()"
   ]
  },
  {
   "cell_type": "code",
   "execution_count": null,
   "metadata": {},
   "outputs": [],
   "source": [
    "# list all key-value pairings using .items\n",
    "\n",
    "staff.items()"
   ]
  },
  {
   "cell_type": "markdown",
   "metadata": {},
   "source": [
    "## 6.2 Updating dictionaries \n",
    "\n",
    "Very often, we need to change dictionary values and/or add more entries to our dictionary. "
   ]
  },
  {
   "cell_type": "code",
   "execution_count": null,
   "metadata": {},
   "outputs": [],
   "source": [
    "# Hey, Andy mistakenly keyed in his age. He is actually 29 years old! \n",
    "\n",
    "staff['age'] = 29\n",
    "print(staff)"
   ]
  },
  {
   "cell_type": "code",
   "execution_count": null,
   "metadata": {},
   "outputs": [],
   "source": [
    "# HR wants us to record down his staff ID. \n",
    "\n",
    "staff['id'] = 12345 \n",
    "print(staff)"
   ]
  },
  {
   "cell_type": "code",
   "execution_count": null,
   "metadata": {},
   "outputs": [],
   "source": [
    "# Let's check the list of keys\n",
    "staff.keys()"
   ]
  },
  {
   "cell_type": "markdown",
   "metadata": {},
   "source": [
    "An implication of this is that we can start with an empty dictionary and add keys as we go along. \n",
    "\n",
    "And empty dictionary is created by assigning a variable to an instance of class `dict` by calling `dict()`. "
   ]
  },
  {
   "cell_type": "code",
   "execution_count": null,
   "metadata": {},
   "outputs": [],
   "source": [
    "favourite_food = dict() # You could also type favourite_food = {}\n",
    "print(favourite_food)"
   ]
  },
  {
   "cell_type": "markdown",
   "metadata": {},
   "source": [
    "### 6.2.1 Dictionary exercise \n",
    "\n",
    "*Here's what I want you to do. Go around the room and find out the favourite food of three colleagues here. Then update this empty dictionary with 3 key-value pairings where keys are your colleague's name and value his/her favourite food. Have fun!* "
   ]
  },
  {
   "cell_type": "code",
   "execution_count": null,
   "metadata": {
    "collapsed": true
   },
   "outputs": [],
   "source": [
    "# update your dictionary here \n",
    "\n",
    "\n",
    "# and print the dictionary \n",
    "print(favourite_food)"
   ]
  },
  {
   "cell_type": "markdown",
   "metadata": {},
   "source": [
    "### 6.2.2 Using the `.update` method\n",
    "\n",
    "To combine two dictionaries, we use the `.update` method.  "
   ]
  },
  {
   "cell_type": "code",
   "execution_count": null,
   "metadata": {
    "collapsed": true
   },
   "outputs": [],
   "source": [
    "staff.update({'salary': 980.15, 'department':'finance', 'colleagues': ['George', 'Liz']})"
   ]
  },
  {
   "cell_type": "code",
   "execution_count": null,
   "metadata": {},
   "outputs": [],
   "source": [
    "# Who are Andy's colleagues? Enter answer below \n",
    "\n"
   ]
  },
  {
   "cell_type": "code",
   "execution_count": null,
   "metadata": {},
   "outputs": [],
   "source": [
    "# Which department does he work in? Enter answer below\n",
    "\n"
   ]
  },
  {
   "cell_type": "markdown",
   "metadata": {},
   "source": [
    "### 6.2.3 Creating dictionaries using kwargs\n",
    "\n",
    "Dictionaries can also be created by calling `dict()` with *keyword arguments* (or kwargs). When we create dictionaries like this, the key value pairs are written as \n",
    "$$ key_1 = value_1, key_2 = value_2, \\ldots $$ again each seperated by a comma. "
   ]
  },
  {
   "cell_type": "code",
   "execution_count": null,
   "metadata": {
    "collapsed": true
   },
   "outputs": [],
   "source": [
    "my_favourite_things = dict(food=\"Assam Laksa\", music=\"classical\", number = 2)"
   ]
  },
  {
   "cell_type": "code",
   "execution_count": null,
   "metadata": {},
   "outputs": [],
   "source": [
    "# my favourite number \n",
    "\n",
    "my_favourite_things['number']"
   ]
  },
  {
   "cell_type": "markdown",
   "metadata": {},
   "source": [
    "Note from the example above that when creating dictionaries, *DO NOT* enclose the keys within quotation marks. However, when accessing the value of a dictionary by its key, you *MUST* use quotation marks. "
   ]
  },
  {
   "cell_type": "code",
   "execution_count": null,
   "metadata": {},
   "outputs": [],
   "source": [
    "# An error\n",
    "\n",
    "my_favourite_things[food]"
   ]
  },
  {
   "cell_type": "code",
   "execution_count": null,
   "metadata": {},
   "outputs": [],
   "source": [
    "# ...but this is correct \n",
    "\n",
    "food = 'food'\n",
    "\n",
    "my_favourite_things[food]"
   ]
  },
  {
   "cell_type": "markdown",
   "metadata": {},
   "source": [
    "# Control flow statements\n",
    "\n",
    "## `if`, `else` and `elif`\n",
    "\n",
    "Python allows us to control the execution of code using conditionals. Thus, if we wanted to execute of piece of code when a certain condition is met, we use the `if` statement to express this logic. "
   ]
  },
  {
   "cell_type": "code",
   "execution_count": 2,
   "metadata": {},
   "outputs": [
    {
     "name": "stdout",
     "output_type": "stream",
     "text": [
      "Enter an integer::8\n",
      "Hello world\n"
     ]
    }
   ],
   "source": [
    "# `if` statements are always concluded with a colon `:`\n",
    "\n",
    "x = input(\"Enter an integer::\") # When you execute this code, you will be prompted to enter in a value for x\n",
    "if x != 0:\n",
    "    print(\"Hello world\")"
   ]
  },
  {
   "cell_type": "markdown",
   "metadata": {},
   "source": [
    "We may use `else` to also execute a block of code if the conditions are not met. "
   ]
  },
  {
   "cell_type": "code",
   "execution_count": 5,
   "metadata": {},
   "outputs": [
    {
     "name": "stdout",
     "output_type": "stream",
     "text": [
      "Enter any positive integer::3\n",
      "3 is an odd number\n"
     ]
    }
   ],
   "source": [
    "# `if` and `else`. \n",
    "\n",
    "x = input(\"Enter any positive integer::\")\n",
    "if int(x) % 2==0:\n",
    "    print(\"%s is an even number\" % x)\n",
    "else:\n",
    "    print(\"%s is an odd number\" % x)"
   ]
  },
  {
   "cell_type": "markdown",
   "metadata": {},
   "source": [
    "Use `elif` to chain together a series of conditions which can trigger code if it is true. Once a condition is met, the execution exits from the `if` construct entirely. "
   ]
  },
  {
   "cell_type": "code",
   "execution_count": 6,
   "metadata": {},
   "outputs": [
    {
     "name": "stdout",
     "output_type": "stream",
     "text": [
      "Enter any even number::41\n",
      "Please enter an even number\n"
     ]
    }
   ],
   "source": [
    "# Using `elif` \n",
    "x = input(\"Enter any even number::\")\n",
    "if int(x) % 2 != 0:\n",
    "    print(\"Please enter an even number\")\n",
    "elif int(x) > 50:\n",
    "    print(\"Your number is more than 50\")\n",
    "else:\n",
    "    print(\"Your number is less than 50\")"
   ]
  },
  {
   "cell_type": "markdown",
   "metadata": {},
   "source": [
    "## `for` and `while` statements \n",
    "Repetitive executions of code can be achived using the `for` statement. "
   ]
  },
  {
   "cell_type": "code",
   "execution_count": 8,
   "metadata": {},
   "outputs": [
    {
     "name": "stdout",
     "output_type": "stream",
     "text": [
      "3\n",
      "4\n",
      "5\n",
      "6\n"
     ]
    }
   ],
   "source": [
    "# `for` statements are always concluded by a colon `:`\n",
    "for i in [1,2,3,4]:\n",
    "    i += 2\n",
    "    print(i)"
   ]
  },
  {
   "cell_type": "markdown",
   "metadata": {},
   "source": [
    "`for` loops can be combined with `if` statements to execute code in a loop only when certain conditions are met. "
   ]
  },
  {
   "cell_type": "code",
   "execution_count": 9,
   "metadata": {},
   "outputs": [
    {
     "name": "stdout",
     "output_type": "stream",
     "text": [
      "Mummy\n",
      "Brother\n",
      "Sister\n",
      "Cousin\n"
     ]
    }
   ],
   "source": [
    "for s in [\"Mummy\", \"Dad\", \"Brother\", \"Sister\", \"Cousin\"]:\n",
    "    if len(s) > 3:\n",
    "        print(s)"
   ]
  },
  {
   "cell_type": "markdown",
   "metadata": {},
   "source": [
    "`while` statements allow us to repeat code until a halting condition is met. "
   ]
  },
  {
   "cell_type": "code",
   "execution_count": 17,
   "metadata": {},
   "outputs": [
    {
     "name": "stdout",
     "output_type": "stream",
     "text": [
      "Enter a string to print. Press 'X' to exit::Hi there!\n",
      "Hi there!\n",
      "Enter a string to print. Press 'X' to exit::Fever\n",
      "Fever\n",
      "Enter a string to print. Press 'X' to exit::X\n",
      "Exiting\n"
     ]
    }
   ],
   "source": [
    "exit = False\n",
    "while not exit:\n",
    "    s = input(\"Enter a string to print. Press 'X' to exit::\")\n",
    "    if s == \"X\":\n",
    "        exit = True\n",
    "        print(\"Exiting\")\n",
    "    else:\n",
    "        print(s)"
   ]
  },
  {
   "cell_type": "markdown",
   "metadata": {},
   "source": [
    "## Use case: Number guessing game\n",
    "\n",
    "Here we demonstrate the use of control flow statements to write a simple game. You input a number between 0-99 and the computer will attempt you guess your number. (It won't cheat)"
   ]
  },
  {
   "cell_type": "code",
   "execution_count": 20,
   "metadata": {},
   "outputs": [
    {
     "name": "stdout",
     "output_type": "stream",
     "text": [
      "Enter an integer from 0 to 99 inclusive::41\n",
      "Is your number less than 50. Enter either 'Y' or 'N'\n",
      "::Y\n",
      "Is your number less than 25. Enter either 'Y' or 'N'\n",
      "::N\n",
      "Is your number less than 37. Enter either 'Y' or 'N'\n",
      "::N\n",
      "Is your number less than 43. Enter either 'Y' or 'N'\n",
      "::Y\n",
      "Is your number less than 40. Enter either 'Y' or 'N'\n",
      "::N\n",
      "Your number is 41\n"
     ]
    }
   ],
   "source": [
    "halt, found = False, False\n",
    "limits = [0, 50, 99]\n",
    "while not halt: \n",
    "    s = input(\"Enter an integer from 0 to 99 inclusive::\")\n",
    "    s = int(s)\n",
    "    while not found:\n",
    "        if limits[1] == s:\n",
    "            found = True\n",
    "            print(\"Your number is %d\" % limits[1])\n",
    "        else:\n",
    "            print(\"Is your number less than %d. Enter either 'Y' or 'N'\" % limits[1])\n",
    "            response = input(\"::\")\n",
    "            if response == \"Y\":\n",
    "                limits[2], limits[1] = limits[1], (limits[0]+limits[1])//2\n",
    "            elif response == \"N\":\n",
    "                limits[0], limits[1] = limits[1], (limits[1]+limits[2])//2\n",
    "            elif response == \"Q\":\n",
    "                print(\"Quitting\")\n",
    "                found = True\n",
    "    halt = True\n",
    "            "
   ]
  },
  {
   "cell_type": "code",
   "execution_count": null,
   "metadata": {},
   "outputs": [],
   "source": []
  }
 ],
 "metadata": {
  "kernelspec": {
   "display_name": "Python 3",
   "language": "python",
   "name": "python3"
  },
  "language_info": {
   "codemirror_mode": {
    "name": "ipython",
    "version": 3
   },
   "file_extension": ".py",
   "mimetype": "text/x-python",
   "name": "python",
   "nbconvert_exporter": "python",
   "pygments_lexer": "ipython3",
   "version": "3.6.4"
  }
 },
 "nbformat": 4,
 "nbformat_minor": 2
}
