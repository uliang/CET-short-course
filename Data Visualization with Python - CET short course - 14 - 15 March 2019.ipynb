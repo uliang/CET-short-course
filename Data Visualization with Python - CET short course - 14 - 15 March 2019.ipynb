{
 "cells": [
  {
   "cell_type": "markdown",
   "metadata": {},
   "source": [
    "# Your first steps with Python\n",
    "____________________________\n",
    "\n",
    "## Introduction \n",
    "\n",
    "Python is a general purpose programming language. It is used extensively for scientific computing, data analytics and visualization, web development and software development. It has a wide user base and excellent library support. \n",
    "\n",
    "There are many ways to use and interact with the Python language. The first way is to access it directly from the command prompt and calling `python <script>.py`. This runs a script written in Python and does whatever you have programmed the computer to do. But scripts have to be written and how do we actually write Python scripts? \n",
    "\n",
    "Actually Python scripts are just `.txt` files. So you could just open a `.txt` file and write a script, saving the file with a `.py` extension. The downsides of this approach is obvious to anyone working with Windows. Usually, Python source code is written-not with Microsoft Word- but with and **I**ntegrated **D**evelopment **E**nvironment. An IDE combines a text editor with a running Python console to test code and actually do work with Python without switching from one program to another. If you learnt the C, or C++ language, you will be familiar with Vim. Other popular IDE's for Python are Pycharm, Spyder and the Jupyter Notebook. \n",
    "\n",
    "In this course, we will use the Jupyter Notebook as our IDE because of its ease of use ability to execute code cell by cell. It integrates with markdown so that one can annotate and document your code on the fly! All in all, it is an excellent tool for teaching and learning Python before one migrates to more advanced tools like Spyder for serious scripting and development work. \n",
    "\n",
    "##  Your best friends. \n",
    "\n",
    "In order to get the most from Python, your best source of reference is the \n",
    "[Python documentation](https://docs.python.org/3.6/). Getting good at Python is a matter using it regularly and familiarizing yourself with the keywords, constructs and commonly used idioms. \n",
    "\n",
    "Learn to use the Shift-Tab when coding. This activates a hovering tooltip that provides documentation for keywords, functions and even variables that you have declared in your environment. This convenient tooltip and be expanded into a pop-up window on your browser for easy reference. Use this often to reference function signatures, documentation and general help. \n",
    "\n",
    "Jupyter notebook comes with Tab completion. This quality of life assists you in typing code by listing possible autocompletion options so that you don't have to type everything out! Use Tab completion as often as you can. This makes coding faster and less tedious. Tab completion also allows you to check out various methods on classes which comes in handy when learning a library for the first time (like `matplotlib` or `seaborn`). \n",
    "\n",
    "Finally ask [Google](www.google.com). Once you have acquired enough \"vocabulary\", you can begin to query Google with your problem.  And more often that not, somehow has experienced the same conundrum and left a message on [Stackexchange](https://stackexchange.com). Browsing the solutions listed there is a powerful way to learn programming skills.  \n",
    "\n",
    "## The learning objectives for this unit \n",
    "\n",
    "The learning objectives of this first unit are: \n",
    "\n",
    "  * Getting around the Jupyter notebook. \n",
    "  * Learning how to `print(\"Hello world!\")` \n",
    "  * Using and coding with basic Python objects: `int`, `str`, `float` and `bool`. \n",
    "\n",
    "  * What are variables and valid variable names.\n",
    "  * Using the `list` object and `list` methods. \n",
    "  * Learning how to access items in `list`. Slicing and indexing. \n",
    "  * To use the `dict` data structure and related methods. \n",
    "\n",
    "  \n",
    "\n",
    "# Getting around the Jupyter notebook \n",
    "_______________\n",
    "\n",
    "## Cells and colors, just remember, green is for go\n",
    "\n",
    "All code is written in cells. Cells are where code blocks go. You execute a cell by pressing Shift-Enter or pressing the \"play\" button. Or you could just click on the drop down menu and select \"Run cell\" but who would want to do that! \n",
    "\n",
    "In general, cells have two uses: One for writing \"live\" Python code which can be executed and one more to write documentation using markdown. To toggle between the two cell types, press Escape to exit from \"edit\" mode. The edges of the cell should turn blue. Now you are in \"command\" mode. Escape actually activates \"command\" mode. Enter activates \"edit\" mode. With the cell border coloured blue, press `M` to enter into markdown mode. You should see the `In [ ]:` prompt dissappear. Press Enter to change the border to green. This means you can now \"edit\" markdown. How does one change from markdown to a live coding cell? In \"command\" mode (remember blue border) press `Y`. Now the cell is \"hot\". When you Shift-Enter, you will execute code. If you happen to write markdown when in a \"coding\" cell, the Python kernel will shout at you. (Means raise an error message)\n",
    "\n",
    "### Practise makes perfect \n",
    "\n",
    "*Now its time for you to try. In the cell below, try switching to Markdown. Press Enter to activate \"edit\" mode and type some text in the cell. Press Shift-Enter and you should see the output rendered in html. Note that this is not coding yet* "
   ]
  },
  {
   "cell_type": "markdown",
   "metadata": {},
   "source": [
    "Welcome to Singapore Polytechnic (SP)"
   ]
  },
  {
   "cell_type": "markdown",
   "metadata": {},
   "source": [
    "## Your first script \n",
    "\n",
    "It is a time honoured tradition that your very first program should be to print \"Hello world!\" How is this achieved in Python?"
   ]
  },
  {
   "cell_type": "code",
   "execution_count": null,
   "metadata": {},
   "outputs": [],
   "source": [
    "'''Make sure you are in \"edit\" mode and that this cell \n",
    "is for Coding ( You should see the In [ ]:)on the left\n",
    "of the cell.  '''\n",
    "\n",
    "print(\"Hello world!\")"
   ]
  },
  {
   "cell_type": "markdown",
   "metadata": {},
   "source": [
    "Notice that `Hello world!` is printed at the bottom of the cell as an output. In general, this is how output of a python code is displayed to you. \n",
    "\n",
    "`print` is a special function in Python. It's purpose is to display output to the console. Notice that we pass an argument-in this case a string `\"Hello world!\"`- to the function. All arguments passed to the function must be enclosed in round brackets and this signals to the Python interpreter to execute a function named `print` with the argument `\"Hello world!\"`. \n",
    "\n",
    "### Self introductions \n",
    "*Your next exercise is to print your own name to the console. Remember to enclose your name in `\" \"` or `' '`* "
   ]
  },
  {
   "cell_type": "code",
   "execution_count": null,
   "metadata": {},
   "outputs": [],
   "source": [
    "# print your name in this cell. "
   ]
  },
  {
   "cell_type": "markdown",
   "metadata": {},
   "source": [
    "## Commenting\n",
    "\n",
    "Commenting is a way to annotate and document code. There are two ways to do this: Inline using the # character or by using `''' <documentation block> '''`, the latter being multi-line and hence used mainly for documenting functions or classes. Comments enclosed using ` '''  ''''` style commenting are actually registed in Jupyter notebook and can be accessed from the Shift-Tab tooltip! \n",
    "\n",
    "One should use # style commenting very sparingly. By right, code should be clear enough that # inline comments are not needed. \n",
    "\n",
    "However, # has a very important function. It is used for debugging and trouble-shooting. This is because commented code sections are never executed when you execute a cell (Shift-Enter) \n",
    "\n",
    "# Python's building blocks\n",
    "_____\n",
    "\n",
    "Python is an **O**bject **O**riented **P**rogramming language. That means to *all* of python is made out of objects which are instances of `classes`. The main point here is that I am going to introduce 4 basic objects of Python which form the backbone of any program or script. \n",
    "\n",
    "  * Integers or `int`. \n",
    "  * Strings or `str`. You've met one of these: `\"Hello world!\"`. For those who know about character encoding, it is highly encouraged to code Python with `UTF-8` encoding. \n",
    "  * Float or `float`. Basically the computer version of real numbers. \n",
    "  * Booleans or `bool`. In Python, true and false are indicated by the reserved keywords `True` and `False`. Take note of the capitalized first letter.\n",
    "  \n",
    "## Numbers\n",
    "\n",
    "You can't call yourself a scientific computing language without the ability to deal with numbers. The basic arithmetic operations for numbers are exactly as you expect it to be\n",
    "  "
   ]
  },
  {
   "cell_type": "code",
   "execution_count": null,
   "metadata": {},
   "outputs": [],
   "source": [
    "# Addition \n",
    "5+3"
   ]
  },
  {
   "cell_type": "code",
   "execution_count": null,
   "metadata": {},
   "outputs": [],
   "source": [
    "# Subtraction\n",
    "8-9"
   ]
  },
  {
   "cell_type": "code",
   "execution_count": null,
   "metadata": {},
   "outputs": [],
   "source": [
    "# Multiplication \n",
    "3*12"
   ]
  },
  {
   "cell_type": "code",
   "execution_count": null,
   "metadata": {},
   "outputs": [],
   "source": [
    "# Division\n",
    "48/12"
   ]
  },
  {
   "cell_type": "markdown",
   "metadata": {},
   "source": [
    "Note the floating point answer. In previous versions of Python, `/` meant floor division. This is no longer the case in Python 3"
   ]
  },
  {
   "cell_type": "code",
   "execution_count": null,
   "metadata": {},
   "outputs": [],
   "source": [
    "# Exponentiation. Limited precision though! \n",
    "\n",
    "16**0.5"
   ]
  },
  {
   "cell_type": "code",
   "execution_count": null,
   "metadata": {},
   "outputs": [],
   "source": [
    "# Residue class modulo n \n",
    "\n",
    "5%2"
   ]
  },
  {
   "cell_type": "markdown",
   "metadata": {},
   "source": [
    "In the above `5%2` means return me the remainder after 5 is divided by 2 (which is indeed 1). \n",
    "\n",
    "\n",
    "### Variables \n",
    "\n",
    "We can *assign* values to variables using  the `=` operator.\n",
    "\n",
    "Python is case sensitive. So a variable name `A` is different from `a`. Variables cannot begin with numbers and cannot have empty spaces between them. So `my variable` is not a valid variable. Instead write `my_variable`\n",
    "\n"
   ]
  },
  {
   "cell_type": "code",
   "execution_count": null,
   "metadata": {},
   "outputs": [],
   "source": [
    "# Assignment \n",
    "\n",
    "x=1\n",
    "y=2"
   ]
  },
  {
   "cell_type": "code",
   "execution_count": null,
   "metadata": {},
   "outputs": [],
   "source": [
    "x+y"
   ]
  },
  {
   "cell_type": "code",
   "execution_count": null,
   "metadata": {},
   "outputs": [],
   "source": [
    "x/y"
   ]
  },
  {
   "cell_type": "markdown",
   "metadata": {},
   "source": [
    "Notice that after assignment, I can access the variables in a different cell. However, if you reassign a variable to a different number, the old values for that variable are overwritten. "
   ]
  },
  {
   "cell_type": "code",
   "execution_count": null,
   "metadata": {},
   "outputs": [],
   "source": [
    "x=5\n",
    "x+y-2"
   ]
  },
  {
   "cell_type": "markdown",
   "metadata": {},
   "source": [
    "## Strings\n",
    "\n",
    "Strings are basically text. These are enclosed in `' '` or `\" \"`. The reason for having two ways of denoting strings is because we may need to nest a string within a string like in `'The quick brown fox \"jumped\" over the lazy old dog'`. This is especially useful when setting up database queries and the like. "
   ]
  },
  {
   "cell_type": "code",
   "execution_count": null,
   "metadata": {},
   "outputs": [],
   "source": [
    "# Noting the difference between printing \n",
    "# quoted variables (strings) and printing\n",
    "# the variable itself.\n",
    "x = 5\n",
    "\n",
    "print(x)\n",
    "print('x')"
   ]
  },
  {
   "cell_type": "markdown",
   "metadata": {},
   "source": [
    "In the second print function, the text `'x'` is printed while in the first print function, it is the contents of `x` which is printed to the console. \n",
    "\n",
    "### String formatting\n",
    "\n",
    "Strings can be assigned to variables just like numbers. And these can be recalled in a print function."
   ]
  },
  {
   "cell_type": "code",
   "execution_count": null,
   "metadata": {},
   "outputs": [],
   "source": [
    "my_name = 'Tang U-Liang'\n",
    "print(my_name)"
   ]
  },
  {
   "cell_type": "code",
   "execution_count": null,
   "metadata": {},
   "outputs": [],
   "source": [
    "# String formatting: Using f-string syntax\n",
    "age = 35\n",
    "weight = 70.25\n",
    "print(f'Hello doctor, my name is {my_name}.'+\n",
    "      f' I am {age} years old. I weigh {weight:.1f} kg')\n"
   ]
  },
  {
   "cell_type": "markdown",
   "metadata": {},
   "source": [
    "### Slicing\n",
    "**Slicing** is a way of get specific subsets of the string. If you let $x_n$ denote the $n+1$-th letter (note zero indexing) in a string (and by letter this includes whitespace characters as well!) then writing `my_string[i:j]` returns a subset $$x_i, x_{i+1}, \\ldots, x_{j-1}$$ of letters in a string. That means the slice `[i:j]` takes all subsets of letters starting from index `i` and stops *one index before* the index indicated by `j`. \n",
    "\n",
    "0 indexing and stopping point convention frequently trips up first time users. So take special note of this convention. 0 indexing is used throughout Python especially in `matplotlib` and `pandas`. "
   ]
  },
  {
   "cell_type": "code",
   "execution_count": null,
   "metadata": {},
   "outputs": [],
   "source": [
    "favourite_drink = fruit+' '+drink\n",
    "print(\"Printing the first to 3rd letter.\") \n",
    "print(favourite_drink[0:3])\n",
    "print(\"\\nNow I want to print the second to seventh letter:\")\n",
    "print(favourite_drink[1:7])"
   ]
  },
  {
   "cell_type": "markdown",
   "metadata": {},
   "source": [
    "Notice the use of `\\n` in the second `print` function. This is called a newline character which does exactly what its name says. Also in the third `print` function notice the seperation between `e` and `j`. It is actually not seperated. The sixth letter is a whitespace character `' '`.  \n",
    "\n",
    "Slicing also utilizes arithmetic progressions to return even more specific subsets of strings. So `[i:j:k]` means that the slice will return $$ x_{i}, x_{i+k}, x_{i+2k}, \\ldots, x_{i+mk}$$ where $m$ is the largest (resp. smallest) integer such that $i+mk \\leq j-1$ (resp $1+mk \\geq j+1$ if $i\\geq j$)"
   ]
  },
  {
   "cell_type": "code",
   "execution_count": null,
   "metadata": {},
   "outputs": [],
   "source": [
    "print(favourite_drink[0:7:2])"
   ]
  },
  {
   "cell_type": "code",
   "execution_count": null,
   "metadata": {},
   "outputs": [],
   "source": [
    "# Here's a trick, try this out\n",
    "print(favourite_drink[3:0:-1])"
   ]
  },
  {
   "cell_type": "markdown",
   "metadata": {},
   "source": [
    "## The `list` data structure. \n",
    "\n",
    "`list` is a way to store multiple objects in an array like structure. \n",
    "Declaring a list is as simple as using square brackets `[ ]` to enclose a list of objects (or variables) seperated by commas. "
   ]
  },
  {
   "cell_type": "code",
   "execution_count": null,
   "metadata": {},
   "outputs": [],
   "source": [
    "# Here's a list called staff containing \n",
    "# his name, his age and current renumeration \n",
    "\n",
    "staff = ['Andy', 28, 980.15]"
   ]
  },
  {
   "cell_type": "markdown",
   "metadata": {},
   "source": [
    "### Properties of `list` objects and indexing \n",
    "\n",
    "One of the fundamental properties we can ask about lists is how many objects they contain. We use the `len` (short for length) function to do that. "
   ]
  },
  {
   "cell_type": "code",
   "execution_count": null,
   "metadata": {},
   "outputs": [],
   "source": [
    "len(staff)"
   ]
  },
  {
   "cell_type": "markdown",
   "metadata": {},
   "source": [
    "Perhaps you want to recover that staff's name. It's in the first position of the list. "
   ]
  },
  {
   "cell_type": "code",
   "execution_count": null,
   "metadata": {},
   "outputs": [],
   "source": [
    "staff[0] "
   ]
  },
  {
   "cell_type": "markdown",
   "metadata": {},
   "source": [
    "Notice that Python still outputs to console even though we did not use the `print` function. Actually the print function prints a particularly \"nice\" string representation of the object, which is why `Andy` is printed without the quotation marks if `print` was used. \n",
    "\n",
    "*Can you find me `Andy`'s age now?*  "
   ]
  },
  {
   "cell_type": "code",
   "execution_count": null,
   "metadata": {},
   "outputs": [],
   "source": []
  },
  {
   "cell_type": "markdown",
   "metadata": {},
   "source": [
    "The same slicing rules for strings apply to lists as well. If we wanted Andy's age and wage, we would type `staff[1:3]`"
   ]
  },
  {
   "cell_type": "code",
   "execution_count": null,
   "metadata": {},
   "outputs": [],
   "source": [
    "staff[1:3]"
   ]
  },
  {
   "cell_type": "markdown",
   "metadata": {},
   "source": [
    "This returns us a sub-list containing Andy's age and renumeration. "
   ]
  },
  {
   "cell_type": "markdown",
   "metadata": {},
   "source": [
    "### List methods \n",
    "\n",
    "Right now, let us look at four very useful list methods. Methods are basically operations which modify lists. These are: \n",
    "\n",
    "1. `pop` which allows us to remove an item in a list. \n",
    "   \n",
    "   So for example if $x_0, x_1, \\ldots, x_n$ are items in a list, calling `my_list.pop(r)` will modify the list so that it contains only $$x_0, \\ldots, x_{r-1}, x_{r+1},\\ldots, x_n$$ while returning the element $x_r$. \n",
    "   \n",
    "3. `append` which adds items to the *end* of the list. \n",
    "\n",
    "   Let's say $x_{n+1}$ is the new object you wish to append to the end of the list. Calling the method `my_list.append(x_n+1)` will modify the list inplace so that the list will now contain $$x_0, \\ldots, x_n, x_{n+1}$$ Note that `append` does *not return any output*! \n",
    "\n",
    "2. `insert` which as the name suggests, allows us to add items to a list *in a particular* index location\n",
    "\n",
    "   When using this, type `my_list.insert(r, x_{n+1})` with  the second argument to the method the object you wish to insert and `r` the position (still 0 indexed) where this object ought to go in that list. This method modifies the list inplace and does not return any output. After calling the `insert` method, the list now contains $$x_0,\\ldots, x_{r-1}, x_{n+1}, x_{r}, \\ldots, x_n$$ This means that `my_list[r] =` $x_{n+1}$ while `my_list[r+1] =` $x_{r}$\n",
    "\n",
    "1. `+` is used to concatenate two lists. If you have two lists and want to join them together producing a union of two (or more lists), use this binary operator. \n",
    "\n",
    "   This works by returning a union of two lists. So $$[ x_1,\\ldots, x_n] + [y_1,\\ldots, y_m]$$ is the list containing $$ x_1,\\ldots, x_n,y_1, \\ldots, y_m$$ This change is **not permanent** unless you assign the result of the operation to another variable. "
   ]
  },
  {
   "cell_type": "code",
   "execution_count": null,
   "metadata": {},
   "outputs": [],
   "source": [
    "# append \n",
    "\n",
    "staff.append('Finance')\n",
    "print(staff)"
   ]
  },
  {
   "cell_type": "code",
   "execution_count": null,
   "metadata": {},
   "outputs": [],
   "source": [
    "# pop away the information about his salary\n",
    "\n",
    "andys_salary = staff.pop(2)\n",
    "print(andys_salary)\n",
    "print(staff)"
   ]
  },
  {
   "cell_type": "code",
   "execution_count": null,
   "metadata": {},
   "outputs": [],
   "source": [
    "# oops, made a mistake, I want to reinsert\n",
    "# information about his salary\n",
    "\n",
    "staff.insert(3, andys_salary)\n",
    "print(staff)"
   ]
  },
  {
   "cell_type": "code",
   "execution_count": null,
   "metadata": {},
   "outputs": [],
   "source": [
    "contacts = [99993535, \"andy@company.com\"]\n",
    "\n",
    "# reassignment of the concatenated list back to staff\n",
    "\n",
    "staff = staff+contacts \n",
    "print(staff)"
   ]
  },
  {
   "cell_type": "markdown",
   "metadata": {},
   "source": [
    "## Dictionaries\n",
    "\n",
    "\n",
    "\n",
    "\n",
    "Lists - while easy to create- have the weakness that one cannot easily retrieve data that has been already stored in it. Since the primary means of retrieving information in a list is via indexing and slicing, you need to know the exact integer positions of each data stored in the list. This can (and will often) lead to human errors in programming. Furthermore, an integer based recall is unenlightening. Other people who reads your code will find it difficult to understand what is being written. \n",
    "\n",
    "To remedy this, Python has built into its base package a data structure called **dictionaries**. A dictionary is simply a key-value pairing like so $$(key_1, value_1), (key_2, value_2)\\ldots, (key_n, value_n)$$ where $key_i$ are usually (but not always) strings and $value_i$ any Python object (`int`, `str`, `list` and even other `dict`!) \n",
    "\n",
    "If `my_dictionary` is a dictionary. Then calling `my_dictionary[key_1]` will return you the value associated with `key_1` in `my_dictionary`, say `value_1`. \n",
    "\n",
    "### Creating dictionaries\n",
    "\n",
    "Dictionaries are created using curly braces `{ }`. Inside the curly braces, we simply list down all the key-value pairs with a colon `:`. Different pairs are seperated by a `,`. "
   ]
  },
  {
   "cell_type": "code",
   "execution_count": null,
   "metadata": {},
   "outputs": [],
   "source": [
    "# creating a dictionary and assigning it to a variable \n",
    "\n",
    "staff = {'name': 'Andy', 'age': 28, 'email': 'andy@company.com' }"
   ]
  },
  {
   "cell_type": "code",
   "execution_count": null,
   "metadata": {},
   "outputs": [],
   "source": [
    "staff['name']"
   ]
  },
  {
   "cell_type": "code",
   "execution_count": null,
   "metadata": {},
   "outputs": [],
   "source": [
    "staff['age']"
   ]
  },
  {
   "cell_type": "code",
   "execution_count": null,
   "metadata": {},
   "outputs": [],
   "source": [
    "print(staff['email'])"
   ]
  },
  {
   "cell_type": "code",
   "execution_count": null,
   "metadata": {},
   "outputs": [],
   "source": [
    "# A dictionary is of class dict \n",
    "print(type(staff))"
   ]
  },
  {
   "cell_type": "code",
   "execution_count": null,
   "metadata": {},
   "outputs": [],
   "source": [
    "# list of all keys, note the brackets at the end. \n",
    "# .keys is a method associated to dictionaries\n",
    "\n",
    "staff.keys()"
   ]
  },
  {
   "cell_type": "code",
   "execution_count": null,
   "metadata": {},
   "outputs": [],
   "source": [
    "# list of all values, in no particular order\n",
    "staff.values()"
   ]
  },
  {
   "cell_type": "code",
   "execution_count": null,
   "metadata": {},
   "outputs": [],
   "source": [
    "# list all key-value pairings using .items\n",
    "\n",
    "staff.items()"
   ]
  },
  {
   "cell_type": "markdown",
   "metadata": {},
   "source": [
    "### Updating dictionaries \n",
    "\n",
    "Very often, we need to change dictionary values and/or add more entries to our dictionary. "
   ]
  },
  {
   "cell_type": "code",
   "execution_count": null,
   "metadata": {},
   "outputs": [],
   "source": [
    "# Hey, Andy mistakenly keyed in his age. \n",
    "# He is actually 29 years old! \n",
    "\n",
    "staff['age'] = 29\n",
    "print(staff)"
   ]
  },
  {
   "cell_type": "code",
   "execution_count": null,
   "metadata": {},
   "outputs": [],
   "source": [
    "# HR wants us to record down his staff ID. \n",
    "\n",
    "staff['id'] = 12345 \n",
    "print(staff)"
   ]
  },
  {
   "cell_type": "code",
   "execution_count": null,
   "metadata": {},
   "outputs": [],
   "source": [
    "# Let's check the list of keys\n",
    "staff.keys()"
   ]
  },
  {
   "cell_type": "markdown",
   "metadata": {},
   "source": [
    "### Using the `.update` method\n",
    "\n",
    "To combine two dictionaries, we use the `.update` method.  "
   ]
  },
  {
   "cell_type": "code",
   "execution_count": null,
   "metadata": {},
   "outputs": [],
   "source": [
    "staff.update({'salary': 980.15,\n",
    "              'department':'finance', \n",
    "              'colleagues': ['George', 'Liz']})"
   ]
  },
  {
   "cell_type": "markdown",
   "metadata": {},
   "source": [
    "# The `pandas` library\n",
    "________________\n",
    "\n",
    "Vectorized operations and array support is provided in Python via the `pandas` library. In this section, we will learn about `Series` and how to manipulate it. \n",
    "\n",
    "A `Series` is an indexed data structure which stores data in an array. It is analogous to a single column in Excel. Data stored in a `Series` can be accessed quickly using its index and allows us to perform \"vectorised\" operations. \n",
    "\n",
    "__Contents:__\n",
    "\n",
    "  * Series Structure\n",
    "  * Basic Operations\n",
    "  * Indexing and Selecting Data\n",
    "  * Boolean Masking\n",
    "  * Missing Values\n",
    "  \n",
    "  \n",
    "The `numpy` (stands for **num**erical **py**thon) library and `pandas` (short for **pan**el **da**ta) provide us with array support and `Series` data structure. "
   ]
  },
  {
   "cell_type": "code",
   "execution_count": null,
   "metadata": {},
   "outputs": [],
   "source": [
    "#import statement for the numpy and pandas libraries\n",
    "import numpy as np\n",
    "import pandas as pd"
   ]
  },
  {
   "cell_type": "markdown",
   "metadata": {},
   "source": [
    "##  Series \n",
    "\n",
    "In base Python, we can store data using a list - which stores it in an array like structure. We access each item we want by using a *positional* index. But sometimes, a positional index can be inconvenient. It is desireable that we have a flexibility of defining a custom index so that retrieving data is made much more convenient. \n",
    "\n",
    "At this juncture, it is sufficient to understand series as a list (usually of objects with the same `dtype`) given together with an *index*. \n",
    "\n",
    "To create a series, we may call the `Series` class and initiate and instance by passing an iterable (a `list` or a numpy `array`) upon initialization. "
   ]
  },
  {
   "cell_type": "code",
   "execution_count": null,
   "metadata": {},
   "outputs": [],
   "source": [
    "# Create a series from a list\n",
    "s = pd.Series([2,3,5,7,11])\n",
    "# Display the series\n",
    "s"
   ]
  },
  {
   "cell_type": "markdown",
   "metadata": {},
   "source": [
    "The contents of the series is stored as an *attribute* of the series and is accessed with `s.values`. `s.values` is an *array* and not a normal list of objects. The index itself can be accessed with `s.index`. "
   ]
  },
  {
   "cell_type": "code",
   "execution_count": null,
   "metadata": {},
   "outputs": [],
   "source": [
    "# Get the series values \n",
    "print(s.values)\n",
    "\n",
    "# Get the series index\n",
    "print(s.index)"
   ]
  },
  {
   "cell_type": "code",
   "execution_count": null,
   "metadata": {},
   "outputs": [],
   "source": [
    "# Series index may be reassigned\n",
    "s.index = [\"a\", \"b\", \"c\", \"d\", \"e\"]\n",
    "\n",
    "# Display\n",
    "s"
   ]
  },
  {
   "cell_type": "markdown",
   "metadata": {},
   "source": [
    "### Accessing series contents: slicing\n",
    "We may use basic slicing operations to access objects stored in series. "
   ]
  },
  {
   "cell_type": "code",
   "execution_count": null,
   "metadata": {},
   "outputs": [],
   "source": [
    "# Accessing series by position\n",
    "s[0]"
   ]
  },
  {
   "cell_type": "code",
   "execution_count": null,
   "metadata": {},
   "outputs": [],
   "source": [
    "# Accessing series by index\n",
    "s[\"b\"]"
   ]
  },
  {
   "cell_type": "markdown",
   "metadata": {},
   "source": [
    "In this regard, we may think of a series as a dictionary. However there is an important difference. Dictionaries do not support slicing. With series, we can perform slicing with the index entries. "
   ]
  },
  {
   "cell_type": "code",
   "execution_count": null,
   "metadata": {},
   "outputs": [],
   "source": [
    "# Slicing using index. Slicing using index right inclusive. \n",
    "s[\"a\": \"d\"]"
   ]
  },
  {
   "cell_type": "code",
   "execution_count": null,
   "metadata": {},
   "outputs": [],
   "source": [
    "# Contrast this with slicing using positional entries. \n",
    "s[0: 3]"
   ]
  },
  {
   "cell_type": "markdown",
   "metadata": {},
   "source": [
    "### `.loc` and `.iloc` selection based slicers\n",
    "If the index is assigned numerical labels, we can recover the right inclusive behaviour using the `.loc` property"
   ]
  },
  {
   "cell_type": "code",
   "execution_count": null,
   "metadata": {},
   "outputs": [],
   "source": [
    "s.index = range(1,6)\n",
    "# Series defaults to positional slicing when \n",
    "# numbers are used to contruct a slice. \n",
    "s[1:4] "
   ]
  },
  {
   "cell_type": "markdown",
   "metadata": {},
   "source": [
    "In contrast, the use of `.loc` property instructs `pandas` to use numerical labels to access the array instead. Note the right inclusive behaviour. "
   ]
  },
  {
   "cell_type": "code",
   "execution_count": null,
   "metadata": {},
   "outputs": [],
   "source": [
    "s.loc[1:4]"
   ]
  },
  {
   "cell_type": "markdown",
   "metadata": {},
   "source": [
    "Take note of a common \"gotcha\" when using numerical indices. When using `s[n]` where n is intended to be the positional index, pandas interprets this as a numerical label instead. To remove ambiguity then, use `.loc` to clearly indicate label based selection and `.iloc` for positional based selection. "
   ]
  },
  {
   "cell_type": "code",
   "execution_count": null,
   "metadata": {},
   "outputs": [],
   "source": [
    "s"
   ]
  },
  {
   "cell_type": "code",
   "execution_count": null,
   "metadata": {},
   "outputs": [],
   "source": [
    "# Note that s[0] is an error and s[1] is not 3 but 2\n",
    "s[0]"
   ]
  },
  {
   "cell_type": "code",
   "execution_count": null,
   "metadata": {},
   "outputs": [],
   "source": [
    "s[1]"
   ]
  },
  {
   "cell_type": "markdown",
   "metadata": {},
   "source": [
    "Instead use `iloc` to clearly indicate that positional based selection is intended. "
   ]
  },
  {
   "cell_type": "code",
   "execution_count": null,
   "metadata": {},
   "outputs": [],
   "source": [
    "# s.iloc[1] means take the entry at the 2nd position \n",
    "s.iloc[1]"
   ]
  },
  {
   "cell_type": "code",
   "execution_count": null,
   "metadata": {},
   "outputs": [],
   "source": [
    "# s.loc[1] and s[1] mean the same thing\n",
    "s.loc[1] == s[1]"
   ]
  },
  {
   "cell_type": "markdown",
   "metadata": {},
   "source": [
    "### Statistical functions on series\n",
    "Everyday statistical functions are available as method calls to the Series object. "
   ]
  },
  {
   "cell_type": "code",
   "execution_count": null,
   "metadata": {},
   "outputs": [],
   "source": [
    "# Create a series\n",
    "import scipy.stats as stats\n",
    "\n",
    "s = pd.Series(stats.norm.rvs(loc=23.4, scale=5, size=100, random_state=1234567))"
   ]
  },
  {
   "cell_type": "code",
   "execution_count": null,
   "metadata": {},
   "outputs": [],
   "source": [
    "# Basic statistical functions are available as method calls to the series\n",
    "s.mean() "
   ]
  },
  {
   "cell_type": "code",
   "execution_count": null,
   "metadata": {},
   "outputs": [],
   "source": [
    "# Std Dev\n",
    "s.std()"
   ]
  },
  {
   "cell_type": "code",
   "execution_count": null,
   "metadata": {},
   "outputs": [],
   "source": [
    "# Median / Q1 / Q3\n",
    "s.median() # same as s.quantile(0.5)"
   ]
  },
  {
   "cell_type": "code",
   "execution_count": null,
   "metadata": {},
   "outputs": [],
   "source": [
    "# Max/Min value\n",
    "s.max()"
   ]
  },
  {
   "cell_type": "code",
   "execution_count": null,
   "metadata": {},
   "outputs": [],
   "source": [
    "# Which index has the max/min value?\n",
    "s.idxmax()"
   ]
  },
  {
   "cell_type": "markdown",
   "metadata": {},
   "source": [
    "###  Conditional Selection\n",
    "\n",
    "Besides index and positional based slicing of a series, we can extract data from series using condition or logical based selection. "
   ]
  },
  {
   "cell_type": "code",
   "execution_count": null,
   "metadata": {},
   "outputs": [],
   "source": [
    "s = pd.Series([65, 90, 101, -7, 125], index=[\"aa\", \"ab\", \"cd\", \"ce\", \"ag\"])\n",
    "# Which values are < 10?\n",
    "s"
   ]
  },
  {
   "cell_type": "markdown",
   "metadata": {},
   "source": [
    "Let's search for all entries which are even numbers"
   ]
  },
  {
   "cell_type": "code",
   "execution_count": null,
   "metadata": {},
   "outputs": [],
   "source": [
    "s % 2 ==0 "
   ]
  },
  {
   "cell_type": "markdown",
   "metadata": {},
   "source": [
    "The above is known as a *mask*. Think of it as a filter by which we sift out entries corresponding to `False` and retain only those which are `True`. The above indicates that the entry corresponding to index `\"ab\"` is an even number. "
   ]
  },
  {
   "cell_type": "code",
   "execution_count": null,
   "metadata": {},
   "outputs": [],
   "source": [
    "# This displays the series consisting only of even numbers\n",
    "s[s%2==0]"
   ]
  },
  {
   "cell_type": "markdown",
   "metadata": {},
   "source": [
    "An range based selection criteria like $\\min<x<\\max$ can only be implement using \"bit wise\" logical operators. That means a criteria like $ 50 <s<100$ is coded as `(s > 50) & (s < 100)`"
   ]
  },
  {
   "cell_type": "code",
   "execution_count": null,
   "metadata": {},
   "outputs": [],
   "source": [
    "# Select values which are 2 < x < 10.\n",
    "s[(s > 50) & (s < 100)]"
   ]
  },
  {
   "cell_type": "markdown",
   "metadata": {},
   "source": [
    " Use bit wise \"or\" , |, to do range based selection of the form $x < a$ or $x> b$. "
   ]
  },
  {
   "cell_type": "code",
   "execution_count": null,
   "metadata": {},
   "outputs": [],
   "source": [
    "s[(s < 25) | (s > 100)]"
   ]
  },
  {
   "cell_type": "markdown",
   "metadata": {},
   "source": [
    "The method `.isin()` allows us to select entries that are contained in a given list "
   ]
  },
  {
   "cell_type": "code",
   "execution_count": null,
   "metadata": {},
   "outputs": [],
   "source": [
    "# The list is passed to the method as an argument.\n",
    "# Note that not all entries in the list needs to\n",
    "# be present in the series. \n",
    "\n",
    "s.isin([-7, 65, 90, 100])"
   ]
  },
  {
   "cell_type": "code",
   "execution_count": null,
   "metadata": {},
   "outputs": [],
   "source": [
    "s[s.isin([-7, 65, 90, 100])]"
   ]
  },
  {
   "cell_type": "markdown",
   "metadata": {},
   "source": [
    "### Missing Values\n",
    "NaN (Not a Number) is the standard missing marker used in pandas. There are methods for us to identify missing values, the indices corresponding to missing values and how to filter missing values. "
   ]
  },
  {
   "cell_type": "code",
   "execution_count": null,
   "metadata": {},
   "outputs": [],
   "source": [
    "# Create a new series\n",
    "s1 = pd.Series([13,np.nan,19])\n",
    "s1"
   ]
  },
  {
   "cell_type": "code",
   "execution_count": null,
   "metadata": {},
   "outputs": [],
   "source": [
    "# Check for missing value\n",
    "s1.isnull()"
   ]
  },
  {
   "cell_type": "code",
   "execution_count": null,
   "metadata": {},
   "outputs": [],
   "source": [
    "# Drop missing values\n",
    "s1.dropna()"
   ]
  },
  {
   "cell_type": "code",
   "execution_count": null,
   "metadata": {},
   "outputs": [],
   "source": [
    "# Replace missing values\n",
    "s1.fillna(17)"
   ]
  },
  {
   "cell_type": "markdown",
   "metadata": {},
   "source": [
    "## Data frames\n",
    "\n",
    "A `pandas` data frame is a library to provide users with tabular or spreadsheet support. A data frame is like an Excel table or R `data.frame` with rows representing individual records and columns representing attributes or features of an observation. \n",
    "\n",
    "__Content:__\n",
    "\n",
    "  * DataFrame Structure\n",
    "  * Working with Columns\n",
    "  \n",
    "  * Conditional Selection\n",
    "\n",
    "A data frame has both row index and column index."
   ]
  },
  {
   "cell_type": "code",
   "execution_count": 8,
   "metadata": {},
   "outputs": [],
   "source": [
    "# Import liraries\n",
    "import numpy as np\n",
    "import pandas as pd"
   ]
  },
  {
   "cell_type": "markdown",
   "metadata": {},
   "source": [
    "### DataFrame Structure\n",
    "\n",
    "Initializing a `Dataframe` from a Python dictionary."
   ]
  },
  {
   "cell_type": "code",
   "execution_count": null,
   "metadata": {},
   "outputs": [],
   "source": [
    "# Create a Python dictionary\n",
    "data = {'Region':['Central','East','North','North-East','West'],\n",
    "        'Area':[132.7,93.1,134.5,103.9,201.3],\n",
    "       'Population':[939890,693500,531860,834450,903010]}\n",
    "# Create a DataFrame from dict\n",
    "df = pd.DataFrame(data)\n",
    "# Display df\n",
    "df"
   ]
  },
  {
   "cell_type": "markdown",
   "metadata": {},
   "source": [
    "Note that the row index are assigned automatically and column index are arranged in alphabetical order."
   ]
  },
  {
   "cell_type": "code",
   "execution_count": null,
   "metadata": {},
   "outputs": [],
   "source": [
    "# Rearrange the columns \n",
    "df = pd.DataFrame(data,columns=['Region','Population','Area'])\n",
    "df"
   ]
  },
  {
   "cell_type": "code",
   "execution_count": null,
   "metadata": {},
   "outputs": [],
   "source": [
    "# Display columns names\n",
    "df.columns"
   ]
  },
  {
   "cell_type": "code",
   "execution_count": null,
   "metadata": {},
   "outputs": [],
   "source": [
    "# Display all values\n",
    "df.values"
   ]
  },
  {
   "cell_type": "code",
   "execution_count": null,
   "metadata": {},
   "outputs": [],
   "source": [
    "# Get the shape of the dataframe, i.e. number of rows and columns\n",
    "df.shape"
   ]
  },
  {
   "cell_type": "code",
   "execution_count": null,
   "metadata": {},
   "outputs": [],
   "source": [
    "# Size of DataFrame = row x column\n",
    "df.size"
   ]
  },
  {
   "cell_type": "code",
   "execution_count": null,
   "metadata": {},
   "outputs": [],
   "source": [
    "# Number of rows\n",
    "len(df)"
   ]
  },
  {
   "cell_type": "code",
   "execution_count": null,
   "metadata": {},
   "outputs": [],
   "source": [
    "# Programming specific information of the dataframe\n",
    "df.info()"
   ]
  },
  {
   "cell_type": "code",
   "execution_count": null,
   "metadata": {},
   "outputs": [],
   "source": [
    "# Basic statistical description of numerical columns\n",
    "df.describe()"
   ]
  },
  {
   "cell_type": "markdown",
   "metadata": {},
   "source": [
    "### Working with columns"
   ]
  },
  {
   "cell_type": "code",
   "execution_count": null,
   "metadata": {},
   "outputs": [],
   "source": [
    "# Rename a column label\n",
    "df = df.rename(columns={'Population':'Pop'})\n",
    "df"
   ]
  },
  {
   "cell_type": "code",
   "execution_count": null,
   "metadata": {},
   "outputs": [],
   "source": [
    "# Select a single column to series\n",
    "A = df['Area'] # same answer as df.Area\n",
    "A"
   ]
  },
  {
   "cell_type": "code",
   "execution_count": null,
   "metadata": {},
   "outputs": [],
   "source": [
    "# Select a single column to dataframe\n",
    "B = df[['Area']]\n",
    "B"
   ]
  },
  {
   "cell_type": "code",
   "execution_count": null,
   "metadata": {},
   "outputs": [],
   "source": [
    "# Select multiple columns to dataframe\n",
    "C = df[['Area','Pop']]\n",
    "C"
   ]
  },
  {
   "cell_type": "code",
   "execution_count": null,
   "metadata": {},
   "outputs": [],
   "source": [
    "# Change order of columns\n",
    "D = df[['Region','Area','Pop']]\n",
    "D"
   ]
  },
  {
   "cell_type": "code",
   "execution_count": null,
   "metadata": {},
   "outputs": [],
   "source": [
    "# Drop a column by label\n",
    "E = df.drop('Area',axis=1)\n",
    "E"
   ]
  },
  {
   "cell_type": "code",
   "execution_count": null,
   "metadata": {},
   "outputs": [],
   "source": [
    "# Create a new column 'Density' = 'Population'/'Area'\n",
    "df['Density'] = df['Pop']/df['Area']\n",
    "df"
   ]
  },
  {
   "cell_type": "code",
   "execution_count": null,
   "metadata": {},
   "outputs": [],
   "source": [
    "# Sort values by a column, in ascending/descending order\n",
    "df.sort_values(by=['Pop'], ascending=False)"
   ]
  },
  {
   "cell_type": "code",
   "execution_count": null,
   "metadata": {},
   "outputs": [],
   "source": [
    "# Find index label for max/min values\n",
    "df['Density'].idxmax()"
   ]
  },
  {
   "cell_type": "markdown",
   "metadata": {},
   "source": [
    "There are many commonly used column-wide attributes/methods:\n",
    "- df['col'].size\n",
    "- df['col'].describe()\n",
    "- df['col'].count()\n",
    "- df['col'].sum()\n",
    "- df['col'].max()\n",
    "- df['col'].mean()\n",
    "- df['col'].std()"
   ]
  },
  {
   "cell_type": "code",
   "execution_count": null,
   "metadata": {},
   "outputs": [],
   "source": [
    "# Example: Find total population\n",
    "df['Pop'].sum()"
   ]
  },
  {
   "cell_type": "markdown",
   "metadata": {},
   "source": [
    "###  Conditional Selection"
   ]
  },
  {
   "cell_type": "code",
   "execution_count": null,
   "metadata": {},
   "outputs": [],
   "source": [
    "# Boolean masking for pop > 800000\n",
    "df['Pop']>800000"
   ]
  },
  {
   "cell_type": "code",
   "execution_count": null,
   "metadata": {},
   "outputs": [],
   "source": [
    "# Return df by boolean masking\n",
    "df[df['Pop']>800000]"
   ]
  },
  {
   "cell_type": "code",
   "execution_count": null,
   "metadata": {},
   "outputs": [],
   "source": [
    "# Boolean masking for Region == Central\n",
    "df['Region']=='Central'"
   ]
  },
  {
   "cell_type": "code",
   "execution_count": null,
   "metadata": {},
   "outputs": [],
   "source": [
    "# Select rows by boolean masking\n",
    "df[df['Region']=='Central']"
   ]
  },
  {
   "cell_type": "code",
   "execution_count": null,
   "metadata": {},
   "outputs": [],
   "source": [
    "# Using .loc to find the Area of the Central region.\n",
    "df.loc[df['Region']=='Central', 'Area']"
   ]
  },
  {
   "cell_type": "code",
   "execution_count": null,
   "metadata": {},
   "outputs": [],
   "source": [
    "# Multiple conditions (and: &) (or: |)\n",
    "# Example: Pop < 800000 and Density < 8000\n",
    "(df['Pop'] < 800000) & (df['Density']<8000)"
   ]
  },
  {
   "cell_type": "code",
   "execution_count": null,
   "metadata": {},
   "outputs": [],
   "source": [
    "# Select rows by multiple conditions\n",
    "# Example: Pop < 800000 and Density < 8000\n",
    "df[(df['Pop'] < 800000) & (df['Density']<8000)]"
   ]
  },
  {
   "cell_type": "code",
   "execution_count": null,
   "metadata": {},
   "outputs": [],
   "source": [
    "# Using .query() method\n",
    "# Query the columns of a frame with a boolean expression\n",
    "df.query(\"Pop < 800000 & Density < 8000\")"
   ]
  },
  {
   "cell_type": "markdown",
   "metadata": {},
   "source": [
    "## Data manipulation\n",
    "\n",
    "With a basic data frame in hand, we now proceed to learn how to manipulate the data to extract information from it. \n",
    "\n",
    "__Content:__\n",
    "\n",
    " * Groupby: split-apply-combine\n",
    "\n",
    " * Melting dataframes (wide-form to long-form)\n",
    "\n",
    "__Import and understand data set__\n",
    "\n",
    "In this unit, we will be using the [MovieLens datasets](http://files.grouplens.org/datasets/movielens/ml-100k/README).\n",
    "\n",
    "Citation: F. Maxwell Harper and Joseph A. Konstan. 2015. The MovieLens Datasets:\n",
    "History and Context. ACM Transactions on Interactive Intelligent\n",
    "Systems (TiiS) 5, 4, Article 19 (December 2015), 19 pages.\n",
    "DOI=http://dx.doi.org/10.1145/2827872\n",
    "\n",
    "We will import the MovieLens user data set from directly from url: http://files.grouplens.org/datasets/movielens/ml-100k/u.user\n",
    "\n",
    "Description: Demographic information about MovieLens users. \n",
    "\n",
    "This is a tab separated list of 'user_id' | 'age' | 'gender' | 'occupation' | 'zip_code'\n"
   ]
  },
  {
   "cell_type": "code",
   "execution_count": 9,
   "metadata": {},
   "outputs": [
    {
     "data": {
      "text/html": [
       "<div>\n",
       "<style scoped>\n",
       "    .dataframe tbody tr th:only-of-type {\n",
       "        vertical-align: middle;\n",
       "    }\n",
       "\n",
       "    .dataframe tbody tr th {\n",
       "        vertical-align: top;\n",
       "    }\n",
       "\n",
       "    .dataframe thead th {\n",
       "        text-align: right;\n",
       "    }\n",
       "</style>\n",
       "<table border=\"1\" class=\"dataframe\">\n",
       "  <thead>\n",
       "    <tr style=\"text-align: right;\">\n",
       "      <th></th>\n",
       "      <th>user_id</th>\n",
       "      <th>age</th>\n",
       "      <th>gender</th>\n",
       "      <th>occupation</th>\n",
       "      <th>zip_code</th>\n",
       "    </tr>\n",
       "  </thead>\n",
       "  <tbody>\n",
       "    <tr>\n",
       "      <th>938</th>\n",
       "      <td>939</td>\n",
       "      <td>26</td>\n",
       "      <td>F</td>\n",
       "      <td>student</td>\n",
       "      <td>33319</td>\n",
       "    </tr>\n",
       "    <tr>\n",
       "      <th>939</th>\n",
       "      <td>940</td>\n",
       "      <td>32</td>\n",
       "      <td>M</td>\n",
       "      <td>administrator</td>\n",
       "      <td>02215</td>\n",
       "    </tr>\n",
       "    <tr>\n",
       "      <th>940</th>\n",
       "      <td>941</td>\n",
       "      <td>20</td>\n",
       "      <td>M</td>\n",
       "      <td>student</td>\n",
       "      <td>97229</td>\n",
       "    </tr>\n",
       "    <tr>\n",
       "      <th>941</th>\n",
       "      <td>942</td>\n",
       "      <td>48</td>\n",
       "      <td>F</td>\n",
       "      <td>librarian</td>\n",
       "      <td>78209</td>\n",
       "    </tr>\n",
       "    <tr>\n",
       "      <th>942</th>\n",
       "      <td>943</td>\n",
       "      <td>22</td>\n",
       "      <td>M</td>\n",
       "      <td>student</td>\n",
       "      <td>77841</td>\n",
       "    </tr>\n",
       "  </tbody>\n",
       "</table>\n",
       "</div>"
      ],
      "text/plain": [
       "     user_id  age gender     occupation zip_code\n",
       "938      939   26      F        student    33319\n",
       "939      940   32      M  administrator    02215\n",
       "940      941   20      M        student    97229\n",
       "941      942   48      F      librarian    78209\n",
       "942      943   22      M        student    77841"
      ]
     },
     "execution_count": 9,
     "metadata": {},
     "output_type": "execute_result"
    }
   ],
   "source": [
    "# Import data from url\n",
    "user = pd.read_csv('http://files.grouplens.org/datasets/movielens/ml-100k/u.user',\n",
    "                   sep='|', header=None)\n",
    "\n",
    "user.columns = ['user_id','age','gender','occupation','zip_code']\n",
    "\n",
    "# Show the last 5 rows\n",
    "user.tail()"
   ]
  },
  {
   "cell_type": "code",
   "execution_count": null,
   "metadata": {},
   "outputs": [],
   "source": [
    "# Any missing values?\n",
    "user.info()"
   ]
  },
  {
   "cell_type": "code",
   "execution_count": null,
   "metadata": {},
   "outputs": [],
   "source": [
    "# How many unique occupations are there in the data set?\n",
    "user['occupation'].unique()"
   ]
  },
  {
   "cell_type": "code",
   "execution_count": null,
   "metadata": {},
   "outputs": [],
   "source": [
    "# Count the number of unique occupations.\n",
    "user['occupation'].nunique()"
   ]
  },
  {
   "cell_type": "code",
   "execution_count": null,
   "metadata": {},
   "outputs": [],
   "source": [
    "# How many users for each occupation?\n",
    "us = user['occupation']\n",
    "us.value_counts()"
   ]
  },
  {
   "cell_type": "markdown",
   "metadata": {},
   "source": [
    "### Groupby : Split - Apply - Combine\n",
    "\n",
    "The [Groupby](https://pandas.pydata.org/pandas-docs/stable/generated/pandas.DataFrame.groupby.html) operation allows us to group rows of data together and call aggregate functions.\n",
    "\n",
    "We can think of it as a split-apply-combine operation, where the data set is split on specific keys, then apply a certain aggregation functions (e.g. sum) within each smaller groups, then combine the results into an output array.\n"
   ]
  },
  {
   "cell_type": "code",
   "execution_count": null,
   "metadata": {},
   "outputs": [],
   "source": [
    "# Groupby will return a GroupBy object, \n",
    "# upon which we can apply some functions\n",
    "\n",
    "gp = user.groupby('occupation')"
   ]
  },
  {
   "cell_type": "code",
   "execution_count": null,
   "metadata": {},
   "outputs": [],
   "source": [
    "# What are the mean age for each occupation?\n",
    "gp.mean()"
   ]
  },
  {
   "cell_type": "code",
   "execution_count": null,
   "metadata": {},
   "outputs": [],
   "source": [
    "# Return a series only\n",
    "gp['age'].mean()"
   ]
  },
  {
   "cell_type": "code",
   "execution_count": null,
   "metadata": {},
   "outputs": [],
   "source": [
    "# Sort the mean age by descending order. \n",
    "# The style of coding below is called \"method - chaining \"\n",
    "\n",
    "gp['age']\\\n",
    "    .mean()\\\n",
    "    .sort_values(ascending=False)"
   ]
  },
  {
   "cell_type": "code",
   "execution_count": null,
   "metadata": {},
   "outputs": [],
   "source": [
    "# Get all summarized statistics about the age for each occupation.\n",
    "gp['age'].describe()"
   ]
  },
  {
   "cell_type": "code",
   "execution_count": null,
   "metadata": {},
   "outputs": [],
   "source": [
    "# Apply customised function \n",
    "# Example: Find the range of age for each occupation, \n",
    "# i.e. range = max - min\n",
    "\n",
    "gp['age'].apply(lambda x: x.max()-x.min())"
   ]
  },
  {
   "cell_type": "markdown",
   "metadata": {},
   "source": [
    "Alternatively, use [pivot_table](http://pandas.pydata.org/pandas-docs/stable/generated/pandas.pivot_table.html) method, which summarizes in a two-dimentional table."
   ]
  },
  {
   "cell_type": "code",
   "execution_count": null,
   "metadata": {},
   "outputs": [],
   "source": [
    "# Implementation of Excel's pivot table in Python \n",
    "user.pivot_table(values='age', index='occupation',\n",
    "                 columns='gender', aggfunc='mean', fill_value=0)"
   ]
  },
  {
   "cell_type": "markdown",
   "metadata": {},
   "source": [
    "__Optional__\n",
    "\n",
    "Pandas pivot tables are able support multi-indexed tables for a richer presentation of summary data. "
   ]
  },
  {
   "cell_type": "code",
   "execution_count": null,
   "metadata": {
    "scrolled": true
   },
   "outputs": [],
   "source": [
    "# Find the number of user, mean age and max age\n",
    "# for each combination of occupation and gender\n",
    "multi_gp = user.groupby(['occupation','gender'])\n",
    "\n",
    "multi_gp['age'].agg(['count', 'mean', 'max'])\n",
    "\n",
    "\n",
    "# Output is a multi-index data frame"
   ]
  },
  {
   "cell_type": "markdown",
   "metadata": {},
   "source": [
    "### Wide-form vs Long-form data frames\n",
    "We need to distinguish between to different ways of tabulating data. A wide-form data frame is one where each column represents a repeated measurement made for a single observation.  On the other hand, the same information could be presented in a long-form table where each row represents a _single_ instance of measurement (who was measured together with the result of measurement). Hence, a single sampling subject is represented in _multiple_ rows. "
   ]
  },
  {
   "cell_type": "code",
   "execution_count": null,
   "metadata": {},
   "outputs": [],
   "source": [
    "# Read 'Marksheet.xlsx' file with sheetname 'Quiz'\n",
    "quiz = pd.read_excel('Marksheet.xlsx',sheetname='Quiz')\n",
    "# This data frame is in wide format\n",
    "quiz.head()"
   ]
  },
  {
   "cell_type": "code",
   "execution_count": null,
   "metadata": {},
   "outputs": [],
   "source": [
    "# Melt the wide-form df to long-form df\n",
    "quizlong = pd.melt(quiz,id_vars='ID',\n",
    "                   value_vars=['Quiz1','Quiz2','Quiz3','Quiz4','Quiz5'])\n",
    "quizlong.tail()"
   ]
  },
  {
   "cell_type": "code",
   "execution_count": null,
   "metadata": {},
   "outputs": [],
   "source": [
    "# Shape of the long-form df\n",
    "quizlong.shape"
   ]
  },
  {
   "cell_type": "code",
   "execution_count": null,
   "metadata": {},
   "outputs": [],
   "source": [
    "# Reverse process: Change long-form to wide-form by using pivot\n",
    "quizwide = quizlong.pivot(index='ID',columns='variable',values='value')\n",
    "quizwide.reset_index().head()"
   ]
  },
  {
   "cell_type": "markdown",
   "metadata": {},
   "source": [
    "# Statistical charts with `seaborn`\n",
    "_______________\n",
    "\n",
    "The seaborn library provides users with quick access to statistical charting. It is a powerful library with a wide array customizable options for chart outputs. \n",
    "\n",
    "__Contents__\n",
    "\n",
    "* Distribution plots\n",
    "* Bar charts for categorical data \n",
    "* Box and whisker plots "
   ]
  },
  {
   "cell_type": "code",
   "execution_count": 11,
   "metadata": {},
   "outputs": [],
   "source": [
    "import seaborn as sns\n",
    "import numpy as np\n",
    "import pandas as pd\n",
    "%matplotlib inline\n",
    "\n",
    "columns=[\"mpg\", \"cylinders\", \"displacement\", \"horsepower\", \"weight\",\n",
    "         \"acceleration\", \"model year\", \"origin\", \"car name\"]\n",
    "raw_mpg = pd.read_csv(\"https://archive.ics.uci.edu/ml/machine-learning-databases/auto-mpg/auto-mpg.data\", \n",
    "                      header=None,\n",
    "                      delim_whitespace=True,\n",
    "                      names=columns,\n",
    "                      usecols=columns,\n",
    "                      na_values=\"?\", \n",
    "                      quoting=2,\n",
    "                      quotechar='\"',\n",
    "                      dtype={\"cylinders\": np.int64, \n",
    "                             \"model year\": np.int64,\n",
    "                             \"origin\": np.int64}) "
   ]
  },
  {
   "cell_type": "code",
   "execution_count": null,
   "metadata": {},
   "outputs": [],
   "source": [
    "raw_mpg.head()"
   ]
  },
  {
   "cell_type": "code",
   "execution_count": null,
   "metadata": {},
   "outputs": [],
   "source": [
    "raw_mpg.info()"
   ]
  },
  {
   "cell_type": "markdown",
   "metadata": {},
   "source": [
    "We investigate the `mpg` dataset using charts generated by `seaborn`. The task associated with this dataset is to predict the `mpg` (Miles per Gallon) variable in terms of 5 continuous variables and 3 discrete ones. \n",
    "\n",
    "*Source: (https://archive.ics.uci.edu/ml/machine-learning-databases/auto-mpg/auto-mpg.names)*\n",
    "\n",
    "## Histograms\n",
    "\n",
    "A fundamental tool to investigate continuous variables is the use of histograms. This chart is available by calling the `distplot` function in `seaborn`. \n",
    "\n",
    "Here, we want to visualize the distribution of miles per gallon variable. "
   ]
  },
  {
   "cell_type": "code",
   "execution_count": 15,
   "metadata": {},
   "outputs": [
    {
     "name": "stderr",
     "output_type": "stream",
     "text": [
      "C:\\Users\\s42355\\AppData\\Local\\conda\\conda\\envs\\sklearn\\lib\\site-packages\\matplotlib\\axes\\_axes.py:6462: UserWarning: The 'normed' kwarg is deprecated, and has been replaced by the 'density' kwarg.\n",
      "  warnings.warn(\"The 'normed' kwarg is deprecated, and has been \"\n"
     ]
    },
    {
     "data": {
      "text/plain": [
       "<matplotlib.axes._subplots.AxesSubplot at 0x1e215df7978>"
      ]
     },
     "execution_count": 15,
     "metadata": {},
     "output_type": "execute_result"
    },
    {
     "data": {
      "image/png": "[encoded data removed]",
      "text/plain": [
       "<Figure size 432x288 with 1 Axes>"
      ]
     },
     "metadata": {},
     "output_type": "display_data"
    }
   ],
   "source": [
    "sns.distplot(raw_mpg.mpg)"
   ]
  },
  {
   "cell_type": "markdown",
   "metadata": {},
   "source": [
    "The basic seaborn chart displays a histogram and a kernel density estimate (KDE) of the distribution. The KDE can be turned off by setting the `kde` keyword argument to `False` (the default is `True`). "
   ]
  },
  {
   "cell_type": "code",
   "execution_count": 16,
   "metadata": {},
   "outputs": [
    {
     "name": "stderr",
     "output_type": "stream",
     "text": [
      "C:\\Users\\s42355\\AppData\\Local\\conda\\conda\\envs\\sklearn\\lib\\site-packages\\matplotlib\\axes\\_axes.py:6462: UserWarning: The 'normed' kwarg is deprecated, and has been replaced by the 'density' kwarg.\n",
      "  warnings.warn(\"The 'normed' kwarg is deprecated, and has been \"\n"
     ]
    },
    {
     "data": {
      "text/plain": [
       "<matplotlib.axes._subplots.AxesSubplot at 0x1e216e852b0>"
      ]
     },
     "execution_count": 16,
     "metadata": {},
     "output_type": "execute_result"
    },
    {
     "data": {
      "image/png": "[encoded data removed]",
      "text/plain": [
       "<Figure size 432x288 with 1 Axes>"
      ]
     },
     "metadata": {},
     "output_type": "display_data"
    }
   ],
   "source": [
    "sns.distplot(raw_mpg.mpg, kde=False)"
   ]
  },
  {
   "cell_type": "markdown",
   "metadata": {},
   "source": [
    "We add in little markers to the plot for each data point. This helps give us a better understanding of the density of the variable"
   ]
  },
  {
   "cell_type": "code",
   "execution_count": 17,
   "metadata": {},
   "outputs": [
    {
     "name": "stderr",
     "output_type": "stream",
     "text": [
      "C:\\Users\\s42355\\AppData\\Local\\conda\\conda\\envs\\sklearn\\lib\\site-packages\\matplotlib\\axes\\_axes.py:6462: UserWarning: The 'normed' kwarg is deprecated, and has been replaced by the 'density' kwarg.\n",
      "  warnings.warn(\"The 'normed' kwarg is deprecated, and has been \"\n"
     ]
    },
    {
     "data": {
      "text/plain": [
       "<matplotlib.axes._subplots.AxesSubplot at 0x1e216ec1d68>"
      ]
     },
     "execution_count": 17,
     "metadata": {},
     "output_type": "execute_result"
    },
    {
     "data": {
      "image/png": "[encoded data removed]",
      "text/plain": [
       "<Figure size 432x288 with 1 Axes>"
      ]
     },
     "metadata": {},
     "output_type": "display_data"
    }
   ],
   "source": [
    "sns.distplot(raw_mpg.mpg, rug=True)"
   ]
  },
  {
   "cell_type": "markdown",
   "metadata": {},
   "source": [
    "The bin size of a histogram can be customised by passing the desired number of bins to the `bins` argument of the function. "
   ]
  },
  {
   "cell_type": "code",
   "execution_count": 18,
   "metadata": {},
   "outputs": [
    {
     "name": "stderr",
     "output_type": "stream",
     "text": [
      "C:\\Users\\s42355\\AppData\\Local\\conda\\conda\\envs\\sklearn\\lib\\site-packages\\matplotlib\\axes\\_axes.py:6462: UserWarning: The 'normed' kwarg is deprecated, and has been replaced by the 'density' kwarg.\n",
      "  warnings.warn(\"The 'normed' kwarg is deprecated, and has been \"\n"
     ]
    },
    {
     "data": {
      "text/plain": [
       "<matplotlib.axes._subplots.AxesSubplot at 0x1e217410780>"
      ]
     },
     "execution_count": 18,
     "metadata": {},
     "output_type": "execute_result"
    },
    {
     "data": {
      "image/png": "[encoded data removed]",
      "text/plain": [
       "<Figure size 432x288 with 1 Axes>"
      ]
     },
     "metadata": {},
     "output_type": "display_data"
    }
   ],
   "source": [
    "sns.distplot(raw_mpg.mpg, kde=False, bins=8 )"
   ]
  },
  {
   "cell_type": "markdown",
   "metadata": {},
   "source": [
    "Note that the smaller the number of bins, the distribution becomes coarser and more details of the distribution is left out. \n",
    "\n",
    "We can also drop the histogram and just plot a KDE estimate of the distribution. Below we plot a rugplot as well and shade in the KDE using a dictionary to pass extra arguments to the underlying KDE plotter. "
   ]
  },
  {
   "cell_type": "code",
   "execution_count": 19,
   "metadata": {},
   "outputs": [
    {
     "data": {
      "text/plain": [
       "<matplotlib.axes._subplots.AxesSubplot at 0x1e2174641d0>"
      ]
     },
     "execution_count": 19,
     "metadata": {},
     "output_type": "execute_result"
    },
    {
     "data": {
      "image/png": "[encoded data removed]",
      "text/plain": [
       "<Figure size 432x288 with 1 Axes>"
      ]
     },
     "metadata": {},
     "output_type": "display_data"
    }
   ],
   "source": [
    "sns.distplot(raw_mpg.mpg, hist=False, rug=True, kde_kws={\"shade\": True})"
   ]
  },
  {
   "cell_type": "markdown",
   "metadata": {},
   "source": [
    "Finally, let's add in a legend label and change the color of the plot, give it a title and further customize the plot by adding a title. "
   ]
  },
  {
   "cell_type": "code",
   "execution_count": 67,
   "metadata": {},
   "outputs": [
    {
     "name": "stderr",
     "output_type": "stream",
     "text": [
      "C:\\Users\\s42355\\AppData\\Local\\conda\\conda\\envs\\sklearn\\lib\\site-packages\\matplotlib\\axes\\_axes.py:6462: UserWarning: The 'normed' kwarg is deprecated, and has been replaced by the 'density' kwarg.\n",
      "  warnings.warn(\"The 'normed' kwarg is deprecated, and has been \"\n"
     ]
    },
    {
     "data": {
      "text/plain": [
       "Text(0.5,1,'Mean: 23.5146$\\\\pm$ (7.8160)')"
      ]
     },
     "execution_count": 67,
     "metadata": {},
     "output_type": "execute_result"
    },
    {
     "data": {
      "image/png": "[encoded data removed]",
      "text/plain": [
       "<Figure size 432x288 with 1 Axes>"
      ]
     },
     "metadata": {},
     "output_type": "display_data"
    }
   ],
   "source": [
    "g = sns.distplot(raw_mpg.mpg, kde=True, color=\"sandybrown\", \n",
    "                 label=\"Miles per gallon\",\n",
    "                 \n",
    "                 # border color of each bar in the histogram\n",
    "                 hist_kws={\"ec\": \"black\",\n",
    "                 \n",
    "                           # the thickness of the border\n",
    "                           \"lw\": 0.1},  \n",
    "                 # labels the KDE estimate line so that it shows \n",
    "                 # up on the legend\n",
    "                 kde_kws={\"label\": \"KDE\",\n",
    "                          \n",
    "                          # color the of KDE line\n",
    "                          \"color\": \"teal\"}) \n",
    "g.legend()\n",
    "g.set_title(f'Mean: {raw_mpg.mpg.mean():.4f}'+\n",
    "            f'$\\pm$ ({raw_mpg.mpg.std():.4f})')"
   ]
  },
  {
   "cell_type": "markdown",
   "metadata": {},
   "source": [
    "## Analysis of nominal variables with a bar chart\n",
    "The `mpg` dataset has three categorical or nomimal variables. One basic way to understand nominal data its through a frequency count. To create frequency bar charts use the `countplot` command. "
   ]
  },
  {
   "cell_type": "code",
   "execution_count": 21,
   "metadata": {},
   "outputs": [
    {
     "data": {
      "text/plain": [
       "<matplotlib.axes._subplots.AxesSubplot at 0x1e2179d2f60>"
      ]
     },
     "execution_count": 21,
     "metadata": {},
     "output_type": "execute_result"
    },
    {
     "data": {
      "image/png": "[encoded data removed]",
      "text/plain": [
       "<Figure size 432x288 with 1 Axes>"
      ]
     },
     "metadata": {},
     "output_type": "display_data"
    }
   ],
   "source": [
    "sns.countplot(raw_mpg[\"model year\"])"
   ]
  },
  {
   "cell_type": "markdown",
   "metadata": {},
   "source": [
    "It is also possible to display the bars horizontally. "
   ]
  },
  {
   "cell_type": "code",
   "execution_count": 23,
   "metadata": {},
   "outputs": [
    {
     "data": {
      "text/plain": [
       "<matplotlib.axes._subplots.AxesSubplot at 0x1e217b26cc0>"
      ]
     },
     "execution_count": 23,
     "metadata": {},
     "output_type": "execute_result"
    },
    {
     "data": {
      "image/png": "[encoded data removed]",
      "text/plain": [
       "<Figure size 432x288 with 1 Axes>"
      ]
     },
     "metadata": {},
     "output_type": "display_data"
    }
   ],
   "source": [
    "sns.countplot(y=raw_mpg[\"model year\"], saturation=1)"
   ]
  },
  {
   "cell_type": "markdown",
   "metadata": {},
   "source": [
    "We may want to display the counts of cars with different cylinders along with the model year by passing data to the `hue` argument. Now we enter the arguments in a different manner, passing the column name to `x` and the data frame to the `data` argument. The cylinders are passed to the `hue` keyword. "
   ]
  },
  {
   "cell_type": "code",
   "execution_count": 24,
   "metadata": {},
   "outputs": [
    {
     "data": {
      "text/plain": [
       "<matplotlib.axes._subplots.AxesSubplot at 0x1e217bb88d0>"
      ]
     },
     "execution_count": 24,
     "metadata": {},
     "output_type": "execute_result"
    },
    {
     "data": {
      "image/png": "[encoded data removed]",
      "text/plain": [
       "<Figure size 432x288 with 1 Axes>"
      ]
     },
     "metadata": {},
     "output_type": "display_data"
    }
   ],
   "source": [
    "sns.countplot(x=\"model year\", hue=\"cylinders\", data=raw_mpg, )"
   ]
  },
  {
   "cell_type": "markdown",
   "metadata": {},
   "source": [
    "The default settings for such a plot is not really beautiful. So let's change it into a **stacked** barplot, orient it horizontally, add a title and move the position of the legend to outside the plot axis. "
   ]
  },
  {
   "cell_type": "code",
   "execution_count": 34,
   "metadata": {},
   "outputs": [
    {
     "data": {
      "text/plain": [
       "<matplotlib.axes._subplots.AxesSubplot at 0x1e21a0f6e48>"
      ]
     },
     "execution_count": 34,
     "metadata": {},
     "output_type": "execute_result"
    },
    {
     "data": {
      "image/png": "[encoded data removed]",
      "text/plain": [
       "<Figure size 432x288 with 1 Axes>"
      ]
     },
     "metadata": {},
     "output_type": "display_data"
    }
   ],
   "source": [
    "pd.crosstab(index=raw_mpg['model year'], columns=raw_mpg['cylinders'])\\\n",
    "    .plot(kind='barh', stacked=True)\n"
   ]
  },
  {
   "cell_type": "markdown",
   "metadata": {},
   "source": [
    "This tells us that the newer cars have 4 cylinders while older cars tend to have 8 cylinder engines. \n",
    "\n",
    "### Visualising aggregate data\n",
    "\n",
    "How do we visualize the average miles per gallon for cars for a given model year? Note that this involves two variables, miles per gallon and the model year. For this we need `barplot`. "
   ]
  },
  {
   "cell_type": "code",
   "execution_count": 36,
   "metadata": {},
   "outputs": [
    {
     "data": {
      "text/plain": [
       "<matplotlib.axes._subplots.AxesSubplot at 0x1e21a3452b0>"
      ]
     },
     "execution_count": 36,
     "metadata": {},
     "output_type": "execute_result"
    },
    {
     "data": {
      "image/png": "[encoded data removed]",
      "text/plain": [
       "<Figure size 432x288 with 1 Axes>"
      ]
     },
     "metadata": {},
     "output_type": "display_data"
    }
   ],
   "source": [
    "sns.barplot(x=\"model year\", y=\"mpg\", data=raw_mpg, estimator=np.mean, ci=\"sd\")"
   ]
  },
  {
   "cell_type": "markdown",
   "metadata": {},
   "source": [
    "The black bars indicate the standard deviation which gives a general idea of how spread out the mpg values are for a given model year. The option `estimator=count` is equivalent to `countplot`. \n",
    "\n",
    "Let's now finish with a chart showing the average mpg for place of origin. Before that, we note that orgin is numerically coded. So let's fill in the actual locations corresponding to the code (1=American, 2=European, 3=Japanese) "
   ]
  },
  {
   "cell_type": "code",
   "execution_count": 37,
   "metadata": {},
   "outputs": [],
   "source": [
    "raw_mpg[\"origin\"] = raw_mpg[\"origin\"]\\\n",
    "    .map({1: \"American\", 2:\"European\", 3:\"Japanese\"})"
   ]
  },
  {
   "cell_type": "code",
   "execution_count": 38,
   "metadata": {},
   "outputs": [
    {
     "data": {
      "text/plain": [
       "Text(0.5,1,'Mean mpg by origin')"
      ]
     },
     "execution_count": 38,
     "metadata": {},
     "output_type": "execute_result"
    },
    {
     "data": {
      "image/png": "[encoded data removed]",
      "text/plain": [
       "<Figure size 432x288 with 1 Axes>"
      ]
     },
     "metadata": {},
     "output_type": "display_data"
    }
   ],
   "source": [
    "g = sns.barplot(hue=\"cylinders\", y=\"mpg\",x=\"origin\", data=raw_mpg, \n",
    "                ci=None, estimator=np.mean, \n",
    "                lw=0.3, ec=\"black\")\n",
    "\n",
    "g.legend(title=\"cylinders\", loc=\"upper left\", bbox_to_anchor=(1,1))\n",
    "g.set_title(\"Mean mpg by origin\")"
   ]
  },
  {
   "cell_type": "markdown",
   "metadata": {},
   "source": [
    "which shows that Japanese cars are generally more fuel efficient.\n",
    "\n",
    "## Generating boxplots\n",
    "\n",
    "Box and whisker charts a good way to compare distribution of data between different groups. The function to do so is `boxplot`. Let us compare the distribution of the mpg for cars from different years"
   ]
  },
  {
   "cell_type": "code",
   "execution_count": 39,
   "metadata": {},
   "outputs": [
    {
     "data": {
      "text/plain": [
       "<matplotlib.axes._subplots.AxesSubplot at 0x1e21a4b32b0>"
      ]
     },
     "execution_count": 39,
     "metadata": {},
     "output_type": "execute_result"
    },
    {
     "data": {
      "image/png": "[encoded data removed]",
      "text/plain": [
       "<Figure size 432x288 with 1 Axes>"
      ]
     },
     "metadata": {},
     "output_type": "display_data"
    }
   ],
   "source": [
    "sns.boxplot(x=\"model year\", y=\"mpg\", data=raw_mpg)"
   ]
  },
  {
   "cell_type": "markdown",
   "metadata": {},
   "source": [
    "Notice the presence of a single outlier for cars made in 1978. Notice a general upward trend in the general efficiency of cars in the early 80s. \n",
    "\n",
    "Let us now compare the rising mileage between Japanese and non-Japanese cars. "
   ]
  },
  {
   "cell_type": "code",
   "execution_count": 42,
   "metadata": {},
   "outputs": [
    {
     "data": {
      "text/plain": [
       "<matplotlib.axes._subplots.AxesSubplot at 0x1e21ba5ab70>"
      ]
     },
     "execution_count": 42,
     "metadata": {},
     "output_type": "execute_result"
    },
    {
     "data": {
      "image/png": "[encoded data removed]",
      "text/plain": [
       "<Figure size 432x288 with 1 Axes>"
      ]
     },
     "metadata": {},
     "output_type": "display_data"
    }
   ],
   "source": [
    "raw_mpg[\"is Japanese make?\"] = raw_mpg[\"origin\"].isin([\"Japanese\"])\n",
    "\n",
    "sns.boxplot(x=\"model year\", y=\"mpg\", hue=\"is Japanese make?\", data=raw_mpg, hue_order=[True, False],\n",
    "           dodge=True)"
   ]
  },
  {
   "cell_type": "markdown",
   "metadata": {},
   "source": [
    "Note that Japanese cars seem to be generally more efficient in the 70s throughout to late 70s. But American and European cars do catch up in the early 80s. \n",
    "\n",
    "We can view boxplots horizontally as well. We do this to compare horsepower of the engines throughout the years. Perhaps the rise in mileage is due to decreased weight of the vehicle? "
   ]
  },
  {
   "cell_type": "code",
   "execution_count": 43,
   "metadata": {},
   "outputs": [
    {
     "data": {
      "text/plain": [
       "<matplotlib.axes._subplots.AxesSubplot at 0x1e21bc95320>"
      ]
     },
     "execution_count": 43,
     "metadata": {},
     "output_type": "execute_result"
    },
    {
     "data": {
      "image/png": "[encoded data removed]",
      "text/plain": [
       "<Figure size 432x288 with 1 Axes>"
      ]
     },
     "metadata": {},
     "output_type": "display_data"
    }
   ],
   "source": [
    "sns.boxplot(x=\"weight\", y=\"model year\", data=raw_mpg, orient=\"h\")"
   ]
  },
  {
   "cell_type": "markdown",
   "metadata": {},
   "source": [
    "We needed to specify the `orient` argument as `h` (for horizontal) because both the `weight` and `model year` variables are numerical. Since `model year` is plotted on the y-axis and `weight` on the x-axis, by specifying `h` for orient, we make `weight` to be the response variable. By default, seaborn assumes that anything numerical variable plotted on the `y` axis is a response variable.  \n",
    "\n",
    "We may generate boxplots using `factorplot` which is a seaborn function used to visualize relationships between categorical \"factors\" and a continous response. What we will try to do is to plot the interaction between `cylinders`, `model year` and `origin`. "
   ]
  },
  {
   "cell_type": "code",
   "execution_count": 44,
   "metadata": {},
   "outputs": [
    {
     "data": {
      "text/html": [
       "<div>\n",
       "<style scoped>\n",
       "    .dataframe tbody tr th:only-of-type {\n",
       "        vertical-align: middle;\n",
       "    }\n",
       "\n",
       "    .dataframe tbody tr th {\n",
       "        vertical-align: top;\n",
       "    }\n",
       "\n",
       "    .dataframe thead th {\n",
       "        text-align: right;\n",
       "    }\n",
       "</style>\n",
       "<table border=\"1\" class=\"dataframe\">\n",
       "  <thead>\n",
       "    <tr style=\"text-align: right;\">\n",
       "      <th>origin</th>\n",
       "      <th>American</th>\n",
       "      <th>European</th>\n",
       "      <th>Japanese</th>\n",
       "    </tr>\n",
       "    <tr>\n",
       "      <th>cylinders</th>\n",
       "      <th></th>\n",
       "      <th></th>\n",
       "      <th></th>\n",
       "    </tr>\n",
       "  </thead>\n",
       "  <tbody>\n",
       "    <tr>\n",
       "      <th>3</th>\n",
       "      <td>0</td>\n",
       "      <td>0</td>\n",
       "      <td>4</td>\n",
       "    </tr>\n",
       "    <tr>\n",
       "      <th>4</th>\n",
       "      <td>72</td>\n",
       "      <td>63</td>\n",
       "      <td>69</td>\n",
       "    </tr>\n",
       "    <tr>\n",
       "      <th>5</th>\n",
       "      <td>0</td>\n",
       "      <td>3</td>\n",
       "      <td>0</td>\n",
       "    </tr>\n",
       "    <tr>\n",
       "      <th>6</th>\n",
       "      <td>74</td>\n",
       "      <td>4</td>\n",
       "      <td>6</td>\n",
       "    </tr>\n",
       "    <tr>\n",
       "      <th>8</th>\n",
       "      <td>103</td>\n",
       "      <td>0</td>\n",
       "      <td>0</td>\n",
       "    </tr>\n",
       "  </tbody>\n",
       "</table>\n",
       "</div>"
      ],
      "text/plain": [
       "origin     American  European  Japanese\n",
       "cylinders                              \n",
       "3                 0         0         4\n",
       "4                72        63        69\n",
       "5                 0         3         0\n",
       "6                74         4         6\n",
       "8               103         0         0"
      ]
     },
     "execution_count": 44,
     "metadata": {},
     "output_type": "execute_result"
    }
   ],
   "source": [
    "pd.crosstab(index=raw_mpg.cylinders, columns=raw_mpg[\"origin\"])"
   ]
  },
  {
   "cell_type": "markdown",
   "metadata": {},
   "source": [
    "But we will only do this for 4 cylinder cars. "
   ]
  },
  {
   "cell_type": "code",
   "execution_count": 46,
   "metadata": {},
   "outputs": [
    {
     "data": {
      "image/png": "[encoded data removed]",
      "text/plain": [
       "<Figure size 864x288 with 3 Axes>"
      ]
     },
     "metadata": {},
     "output_type": "display_data"
    }
   ],
   "source": [
    "g = sns.factorplot(x=\"model year\", y=\"mpg\", \n",
    "                   \n",
    "                   # Filter for entries with 4 cylinders\n",
    "                   data=raw_mpg[raw_mpg.cylinders==4],  \n",
    "                   row=\"cylinders\", col=\"origin\", kind=\"box\", margin_titles=True)\n",
    "\n",
    "g.fig.subplots_adjust(top=0.85)\n",
    "g.fig.suptitle(\"Mileage by model year\")\n",
    "g.despine(left=True);"
   ]
  },
  {
   "cell_type": "markdown",
   "metadata": {},
   "source": [
    "# Case Study: Historical Daily Weather Records\n",
    "_______________\n",
    "\n",
    "We usually go through the following four phases of thinking processes when working on data analytics projects:\n",
    "\n",
    "1. Background (Business) Understanding\n",
    "1. Data Understanding and Preparation\n",
    "2. Descriptive and Visual Analytics\n",
    "2. Export and Present Results\n",
    "\n",
    "\n",
    "## Background Understanding\n",
    "\n",
    "In this case study, we shall use daily weather record at Changi weather station, from Jan-2016 to Dec-2017, to investigate the following weather pattern.\n",
    "\n",
    "__1. Rainfall pattern__\n",
    "    - Wettest day of the year\n",
    "    - Wettest month of the year\n",
    "    - Number of rainy days per month\n",
    "\n",
    "__2. Temperature pattern__\n",
    "    - Warmest/coolest day of the year\n",
    "    - Warmest/coolest month of the year\n",
    "    - Range of temperature variation\n",
    "    \n",
    "__3. Relationship between rainfall and temperature.__\n",
    "\n",
    "The raw data are available on [Metrological Service Singapore](http://www.weather.gov.sg/climate-historical-daily/).\n",
    "\n",
    "## Data Understanding and Preparation"
   ]
  },
  {
   "cell_type": "code",
   "execution_count": 47,
   "metadata": {},
   "outputs": [],
   "source": [
    "# Import libraries\n",
    "import numpy as np\n",
    "import pandas as pd\n",
    "import os\n",
    "import scipy.stats as stats\n",
    "import matplotlib.pyplot as plt\n",
    "import seaborn as sns\n",
    "%matplotlib inline"
   ]
  },
  {
   "cell_type": "markdown",
   "metadata": {},
   "source": [
    "Each csv file stores the weather record for a month. All the csv files are stored in a folder 'NEA_Daily'. We'll write a simple code to read all the files in the folder and join them together to form a dataframe."
   ]
  },
  {
   "cell_type": "code",
   "execution_count": 48,
   "metadata": {},
   "outputs": [],
   "source": [
    "def get_data():\n",
    "    path = os.path.join(os.getcwd(), \"NEA_Daily\")# Get folder path\n",
    "    \n",
    "    files = os.listdir(path) # List all files in this folder\n",
    "    \n",
    "    df = pd.DataFrame()\n",
    "    \n",
    "    # Write a for loop to read each file in the folder\n",
    "    for file in files:\n",
    "\n",
    "        # use Python parser engine instead of the default C engine. \n",
    "        # There is a special character '\\x97' which we \n",
    "        # regard as a null value\n",
    "        data = pd.read_csv(os.path.join(path, file), na_values=\"\\x97\",\n",
    "                           engine=\"python\", encoding=\"latin1\")\n",
    "        \n",
    "        # append each file in a dataframe\n",
    "        df = df.append(data) \n",
    "        \n",
    "    # reset the index of the final dataframe\n",
    "    df = df.reset_index(drop=True) \n",
    "    \n",
    "    return df"
   ]
  },
  {
   "cell_type": "code",
   "execution_count": null,
   "metadata": {},
   "outputs": [],
   "source": [
    "df = get_data()\n",
    "df.sample(5)"
   ]
  },
  {
   "cell_type": "markdown",
   "metadata": {},
   "source": [
    "## Descriptive and Visual Analytics\n",
    "\n",
    "__1. Rainfall Pattern__\n",
    "\n",
    "First, we get the basic numerical summaries for Daily Rainfall Total."
   ]
  },
  {
   "cell_type": "code",
   "execution_count": 50,
   "metadata": {},
   "outputs": [
    {
     "data": {
      "text/plain": [
       "count    731.000000\n",
       "mean       5.487141\n",
       "std       11.619427\n",
       "min        0.000000\n",
       "25%        0.000000\n",
       "50%        0.200000\n",
       "75%        4.800000\n",
       "max       75.400000\n",
       "Name: Daily Rainfall Total (mm), dtype: float64"
      ]
     },
     "execution_count": 50,
     "metadata": {},
     "output_type": "execute_result"
    }
   ],
   "source": [
    "df['Daily Rainfall Total (mm)'].describe()"
   ]
  },
  {
   "cell_type": "markdown",
   "metadata": {},
   "source": [
    "We use Seaborn Distplot to visualise the distribution of rainfall."
   ]
  },
  {
   "cell_type": "code",
   "execution_count": 51,
   "metadata": {},
   "outputs": [
    {
     "name": "stderr",
     "output_type": "stream",
     "text": [
      "C:\\Users\\s42355\\AppData\\Local\\conda\\conda\\envs\\sklearn\\lib\\site-packages\\matplotlib\\axes\\_axes.py:6462: UserWarning: The 'normed' kwarg is deprecated, and has been replaced by the 'density' kwarg.\n",
      "  warnings.warn(\"The 'normed' kwarg is deprecated, and has been \"\n"
     ]
    },
    {
     "data": {
      "image/png": "[encoded data removed]",
      "text/plain": [
       "<Figure size 432x288 with 1 Axes>"
      ]
     },
     "metadata": {},
     "output_type": "display_data"
    }
   ],
   "source": [
    "sns.distplot(df['Daily Rainfall Total (mm)'], kde=False);"
   ]
  },
  {
   "cell_type": "markdown",
   "metadata": {},
   "source": [
    "The distribution is highly skewed, indicating that high rainfall is truly a \"once in a lifetime\" event. \n",
    "\n",
    "To find the monthly total rainfall we need to apply `groupby` to both `Year` and `Month` because the same numerical label for month is used for two different years. If we merely grouped by `Month` alone, we would get total rainfall in a month across two years which is not a meaningful value to obtain."
   ]
  },
  {
   "cell_type": "code",
   "execution_count": 53,
   "metadata": {},
   "outputs": [
    {
     "data": {
      "text/html": [
       "<div>\n",
       "<style scoped>\n",
       "    .dataframe tbody tr th:only-of-type {\n",
       "        vertical-align: middle;\n",
       "    }\n",
       "\n",
       "    .dataframe tbody tr th {\n",
       "        vertical-align: top;\n",
       "    }\n",
       "\n",
       "    .dataframe thead th {\n",
       "        text-align: right;\n",
       "    }\n",
       "</style>\n",
       "<table border=\"1\" class=\"dataframe\">\n",
       "  <thead>\n",
       "    <tr style=\"text-align: right;\">\n",
       "      <th>Year</th>\n",
       "      <th>2016</th>\n",
       "      <th>2017</th>\n",
       "    </tr>\n",
       "    <tr>\n",
       "      <th>Month</th>\n",
       "      <th></th>\n",
       "      <th></th>\n",
       "    </tr>\n",
       "  </thead>\n",
       "  <tbody>\n",
       "    <tr>\n",
       "      <th>1</th>\n",
       "      <td>127.0</td>\n",
       "      <td>197.8</td>\n",
       "    </tr>\n",
       "    <tr>\n",
       "      <th>2</th>\n",
       "      <td>186.0</td>\n",
       "      <td>159.2</td>\n",
       "    </tr>\n",
       "    <tr>\n",
       "      <th>3</th>\n",
       "      <td>6.2</td>\n",
       "      <td>136.6</td>\n",
       "    </tr>\n",
       "    <tr>\n",
       "      <th>4</th>\n",
       "      <td>89.8</td>\n",
       "      <td>210.4</td>\n",
       "    </tr>\n",
       "    <tr>\n",
       "      <th>5</th>\n",
       "      <td>193.8</td>\n",
       "      <td>191.4</td>\n",
       "    </tr>\n",
       "    <tr>\n",
       "      <th>6</th>\n",
       "      <td>163.2</td>\n",
       "      <td>106.0</td>\n",
       "    </tr>\n",
       "    <tr>\n",
       "      <th>7</th>\n",
       "      <td>168.6</td>\n",
       "      <td>80.0</td>\n",
       "    </tr>\n",
       "    <tr>\n",
       "      <th>8</th>\n",
       "      <td>139.2</td>\n",
       "      <td>84.2</td>\n",
       "    </tr>\n",
       "    <tr>\n",
       "      <th>9</th>\n",
       "      <td>118.9</td>\n",
       "      <td>125.2</td>\n",
       "    </tr>\n",
       "    <tr>\n",
       "      <th>10</th>\n",
       "      <td>181.0</td>\n",
       "      <td>121.6</td>\n",
       "    </tr>\n",
       "    <tr>\n",
       "      <th>11</th>\n",
       "      <td>290.2</td>\n",
       "      <td>271.0</td>\n",
       "    </tr>\n",
       "    <tr>\n",
       "      <th>12</th>\n",
       "      <td>292.6</td>\n",
       "      <td>371.2</td>\n",
       "    </tr>\n",
       "  </tbody>\n",
       "</table>\n",
       "</div>"
      ],
      "text/plain": [
       "Year    2016   2017\n",
       "Month              \n",
       "1      127.0  197.8\n",
       "2      186.0  159.2\n",
       "3        6.2  136.6\n",
       "4       89.8  210.4\n",
       "5      193.8  191.4\n",
       "6      163.2  106.0\n",
       "7      168.6   80.0\n",
       "8      139.2   84.2\n",
       "9      118.9  125.2\n",
       "10     181.0  121.6\n",
       "11     290.2  271.0\n",
       "12     292.6  371.2"
      ]
     },
     "execution_count": 53,
     "metadata": {},
     "output_type": "execute_result"
    }
   ],
   "source": [
    "tab = pd.pivot_table(df, index='Month', columns='Year', \n",
    "                     values='Daily Rainfall Total (mm)',\n",
    "                     aggfunc='sum')\n",
    "tab"
   ]
  },
  {
   "cell_type": "code",
   "execution_count": 55,
   "metadata": {},
   "outputs": [
    {
     "data": {
      "text/plain": [
       "<matplotlib.axes._subplots.AxesSubplot at 0x1e21c54e908>"
      ]
     },
     "execution_count": 55,
     "metadata": {},
     "output_type": "execute_result"
    },
    {
     "data": {
      "image/png": "[encoded data removed]",
      "text/plain": [
       "<Figure size 432x288 with 1 Axes>"
      ]
     },
     "metadata": {},
     "output_type": "display_data"
    }
   ],
   "source": [
    "tab.plot(kind='bar', rot='horizontal')"
   ]
  },
  {
   "cell_type": "markdown",
   "metadata": {},
   "source": [
    "__2. Temperature Pattern__\n",
    "\n",
    "Let's look at the distribution of mean daily temperature throughout the observational period. "
   ]
  },
  {
   "cell_type": "code",
   "execution_count": 57,
   "metadata": {},
   "outputs": [
    {
     "data": {
      "image/png": "[encoded data removed]",
      "text/plain": [
       "<Figure size 864x288 with 2 Axes>"
      ]
     },
     "metadata": {},
     "output_type": "display_data"
    }
   ],
   "source": [
    "# Distribution of mean temperature by Month\n",
    "g = sns.factorplot(x=\"Month\", y=\"Mean Temperature (°C)\",\n",
    "                   col=\"Year\", data=df, kind=\"box\",\n",
    "                   orient=\"v\", aspect=1.5)\n",
    "\n",
    "# More detailed customization\n",
    "right_subplot = g.axes.ravel()[1]\n",
    "right_subplot.spines[\"left\"].set_visible(False)\n",
    "right_subplot.tick_params(left=False )"
   ]
  },
  {
   "cell_type": "markdown",
   "metadata": {},
   "source": [
    "A direct side by side comparison of monthly temperature distribution over the two years may be meaningful. We will use a `violinplot` for this purpose. "
   ]
  },
  {
   "cell_type": "code",
   "execution_count": 58,
   "metadata": {},
   "outputs": [
    {
     "data": {
      "text/plain": [
       "<matplotlib.legend.Legend at 0x1e21dc1cac8>"
      ]
     },
     "execution_count": 58,
     "metadata": {},
     "output_type": "execute_result"
    },
    {
     "data": {
      "image/png": "[encoded data removed]",
      "text/plain": [
       "<Figure size 576x360 with 1 Axes>"
      ]
     },
     "metadata": {},
     "output_type": "display_data"
    }
   ],
   "source": [
    "# Distribution of mean temperature by Month and Year using subplots\n",
    "plt.figure(figsize=(8,5))\n",
    "sns.violinplot(x=\"Month\", hue=\"Year\", y=\"Mean Temperature (°C)\", data=df, split=True )\n",
    "plt.legend(bbox_to_anchor=(1,1), loc=\"upper left\")"
   ]
  },
  {
   "cell_type": "markdown",
   "metadata": {},
   "source": [
    "More evidence showing that 2017 was a colder year compared to 2016. \n",
    "\n",
    "**3. Heatmaps**\n",
    "\n",
    "Heatmaps are a good way to give extra emphasis to tabular data. This allows comparison across two dimensions easily. "
   ]
  },
  {
   "cell_type": "code",
   "execution_count": 59,
   "metadata": {},
   "outputs": [],
   "source": [
    "ymd = df.pivot_table(values=\"Mean Temperature (°C)\", index=\"Day\",\n",
    "                     columns=[\"Year\", \"Month\"])\n"
   ]
  },
  {
   "cell_type": "code",
   "execution_count": 64,
   "metadata": {},
   "outputs": [
    {
     "data": {
      "image/png": "[encoded data removed]",
      "text/plain": [
       "<Figure size 720x576 with 2 Axes>"
      ]
     },
     "metadata": {},
     "output_type": "display_data"
    }
   ],
   "source": [
    "# Daily mean temperature using heatmap\n",
    "plt.figure(figsize=(10,8))\n",
    "g = sns.heatmap(ymd.T, cmap=\"rainbow\", square=False, cbar_kws={\"use_gridspec\": False, \n",
    "                      \"location\": \"bottom\",\n",
    "                      \"label\": \"Temperature ($^\\circ$C)\",\n",
    "                      \"aspect\": 30,\n",
    "                      },\n",
    "                linewidths=0.1)"
   ]
  },
  {
   "cell_type": "markdown",
   "metadata": {},
   "source": [
    "It notable that 2016 seems to be the warmer year on record. \n",
    "\n",
    "__4. Relationship between Rainfall and Temperature__\n",
    "\n",
    "Rainy days tend to be cooler days. Let's investigate the data and see whether this is true. "
   ]
  },
  {
   "cell_type": "code",
   "execution_count": 65,
   "metadata": {},
   "outputs": [
    {
     "data": {
      "image/png": "[encoded data removed]",
      "text/plain": [
       "<Figure size 432x432 with 3 Axes>"
      ]
     },
     "metadata": {},
     "output_type": "display_data"
    }
   ],
   "source": [
    "# Visualising two numerical variables using jointplot with marginal distribution\n",
    "sns.jointplot(x='Daily Rainfall Total (mm)', y='Mean Temperature (°C)', \n",
    "              data=df,\n",
    "              kind='scatter',\n",
    "              marginal_kws={\"kde\":True, \"hist\":False, \"kde_kws\": {\"shade\": True}},\n",
    "              alpha=0.3, edgecolors=\"k\", linewidths=0.2);"
   ]
  },
  {
   "cell_type": "markdown",
   "metadata": {},
   "source": [
    "Sometimes binning data may improve our understanding of the relationship between the two variables. \n"
   ]
  },
  {
   "cell_type": "code",
   "execution_count": 66,
   "metadata": {},
   "outputs": [
    {
     "data": {
      "text/plain": [
       "<matplotlib.axes._subplots.AxesSubplot at 0x1e21c59efd0>"
      ]
     },
     "execution_count": 66,
     "metadata": {},
     "output_type": "execute_result"
    },
    {
     "data": {
      "image/png": "[encoded data removed]",
      "text/plain": [
       "<Figure size 432x288 with 1 Axes>"
      ]
     },
     "metadata": {},
     "output_type": "display_data"
    }
   ],
   "source": [
    "sns.regplot(x=\"Daily Rainfall Total (mm)\", y='Mean Temperature (°C)', data=df, \n",
    "            x_bins=np.arange(0, 80, 10), x_ci=\"sd\", fit_reg=False)"
   ]
  },
  {
   "cell_type": "markdown",
   "metadata": {},
   "source": [
    "We notice that there is an anomaly at the 50mm bin. If we model the mean temperature as a linear function of total rainfall, we want to use a robust estimation against outliers. "
   ]
  },
  {
   "cell_type": "markdown",
   "metadata": {},
   "source": [
    "So we can conclude that a wetter day does correspond to a colder day. \n",
    "\n",
    "## Export and Present Results\n",
    "\n",
    "We can export the summarised statistics to Excel file and the charts as png file."
   ]
  },
  {
   "cell_type": "code",
   "execution_count": null,
   "metadata": {},
   "outputs": [],
   "source": [
    "# Save the new dataframe to Excel file\n",
    "writer = pd.ExcelWriter('NEA_Cleaned_Data.xlsx')\n",
    "df.to_excel(writer,'Sheet1')\n",
    "writer.save()\n",
    "\n",
    "# Saving a chart to png file\n",
    "plt.subplots(figsize=(10,6))\n",
    "g = sns.boxplot(x='Month',y='Mean Temperature (°C)',data=df, hue='Year')\n",
    "g.set_title('Distribution of Mean Temperature (°C)');\n",
    "plt.savefig('Distribution_of_Mean_Temperature',dpi=200,bbox_inches='tight')"
   ]
  }
 ],
 "metadata": {
  "hide_input": false,
  "kernelspec": {
   "display_name": "Python 3",
   "language": "python",
   "name": "python3"
  },
  "language_info": {
   "codemirror_mode": {
    "name": "ipython",
    "version": 3
   },
   "file_extension": ".py",
   "mimetype": "text/x-python",
   "name": "python",
   "nbconvert_exporter": "python",
   "pygments_lexer": "ipython3",
   "version": "3.6.4"
  }
 },
 "nbformat": 4,
 "nbformat_minor": 2
}
